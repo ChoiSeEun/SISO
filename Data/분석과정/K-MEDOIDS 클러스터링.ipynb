{
 "cells": [
  {
   "cell_type": "markdown",
   "id": "1b03dd02-1dcf-49fe-8c29-3821ef753966",
   "metadata": {},
   "source": [
    "# 1. 분석준비"
   ]
  },
  {
   "cell_type": "code",
   "execution_count": 19,
   "id": "e0434f72-9be3-4985-9dde-4505f39d2ce4",
   "metadata": {},
   "outputs": [],
   "source": [
    "import pandas as pd\n",
    "import numpy as np\n",
    "import math\n",
    "import scipy as sp\n",
    "import seaborn as sns\n",
    "import matplotlib.pyplot as plt\n",
    "from sklearn_extra.cluster import KMedoids"
   ]
  },
  {
   "cell_type": "code",
   "execution_count": 20,
   "id": "e0ff5b4c-8881-48c8-8a2a-8943f9e53e63",
   "metadata": {},
   "outputs": [
    {
     "data": {
      "text/html": [
       "<div>\n",
       "<style scoped>\n",
       "    .dataframe tbody tr th:only-of-type {\n",
       "        vertical-align: middle;\n",
       "    }\n",
       "\n",
       "    .dataframe tbody tr th {\n",
       "        vertical-align: top;\n",
       "    }\n",
       "\n",
       "    .dataframe thead th {\n",
       "        text-align: right;\n",
       "    }\n",
       "</style>\n",
       "<table border=\"1\" class=\"dataframe\">\n",
       "  <thead>\n",
       "    <tr style=\"text-align: right;\">\n",
       "      <th></th>\n",
       "      <th>CTY_NM</th>\n",
       "      <th>ratio</th>\n",
       "      <th>tot</th>\n",
       "    </tr>\n",
       "  </thead>\n",
       "  <tbody>\n",
       "    <tr>\n",
       "      <th>0</th>\n",
       "      <td>강남구</td>\n",
       "      <td>117.501236</td>\n",
       "      <td>304</td>\n",
       "    </tr>\n",
       "    <tr>\n",
       "      <th>1</th>\n",
       "      <td>강동구</td>\n",
       "      <td>130.707905</td>\n",
       "      <td>201</td>\n",
       "    </tr>\n",
       "    <tr>\n",
       "      <th>2</th>\n",
       "      <td>강북구</td>\n",
       "      <td>255.741946</td>\n",
       "      <td>162</td>\n",
       "    </tr>\n",
       "    <tr>\n",
       "      <th>3</th>\n",
       "      <td>강서구</td>\n",
       "      <td>151.529412</td>\n",
       "      <td>325</td>\n",
       "    </tr>\n",
       "    <tr>\n",
       "      <th>4</th>\n",
       "      <td>관악구</td>\n",
       "      <td>232.544572</td>\n",
       "      <td>250</td>\n",
       "    </tr>\n",
       "    <tr>\n",
       "      <th>5</th>\n",
       "      <td>광진구</td>\n",
       "      <td>164.941084</td>\n",
       "      <td>158</td>\n",
       "    </tr>\n",
       "    <tr>\n",
       "      <th>6</th>\n",
       "      <td>구로구</td>\n",
       "      <td>180.530203</td>\n",
       "      <td>283</td>\n",
       "    </tr>\n",
       "    <tr>\n",
       "      <th>7</th>\n",
       "      <td>금천구</td>\n",
       "      <td>211.962286</td>\n",
       "      <td>167</td>\n",
       "    </tr>\n",
       "    <tr>\n",
       "      <th>8</th>\n",
       "      <td>노원구</td>\n",
       "      <td>155.835207</td>\n",
       "      <td>375</td>\n",
       "    </tr>\n",
       "    <tr>\n",
       "      <th>9</th>\n",
       "      <td>도봉구</td>\n",
       "      <td>214.057018</td>\n",
       "      <td>218</td>\n",
       "    </tr>\n",
       "    <tr>\n",
       "      <th>10</th>\n",
       "      <td>동대문구</td>\n",
       "      <td>196.919653</td>\n",
       "      <td>200</td>\n",
       "    </tr>\n",
       "    <tr>\n",
       "      <th>11</th>\n",
       "      <td>동작구</td>\n",
       "      <td>177.251917</td>\n",
       "      <td>254</td>\n",
       "    </tr>\n",
       "    <tr>\n",
       "      <th>12</th>\n",
       "      <td>마포구</td>\n",
       "      <td>140.931947</td>\n",
       "      <td>274</td>\n",
       "    </tr>\n",
       "    <tr>\n",
       "      <th>13</th>\n",
       "      <td>서대문구</td>\n",
       "      <td>175.863324</td>\n",
       "      <td>165</td>\n",
       "    </tr>\n",
       "    <tr>\n",
       "      <th>14</th>\n",
       "      <td>서초구</td>\n",
       "      <td>108.378422</td>\n",
       "      <td>264</td>\n",
       "    </tr>\n",
       "    <tr>\n",
       "      <th>15</th>\n",
       "      <td>성동구</td>\n",
       "      <td>157.095413</td>\n",
       "      <td>286</td>\n",
       "    </tr>\n",
       "    <tr>\n",
       "      <th>16</th>\n",
       "      <td>성북구</td>\n",
       "      <td>160.204750</td>\n",
       "      <td>283</td>\n",
       "    </tr>\n",
       "    <tr>\n",
       "      <th>17</th>\n",
       "      <td>송파구</td>\n",
       "      <td>122.487458</td>\n",
       "      <td>301</td>\n",
       "    </tr>\n",
       "    <tr>\n",
       "      <th>18</th>\n",
       "      <td>양천구</td>\n",
       "      <td>120.534893</td>\n",
       "      <td>266</td>\n",
       "    </tr>\n",
       "    <tr>\n",
       "      <th>19</th>\n",
       "      <td>영등포구</td>\n",
       "      <td>162.996595</td>\n",
       "      <td>297</td>\n",
       "    </tr>\n",
       "    <tr>\n",
       "      <th>20</th>\n",
       "      <td>용산구</td>\n",
       "      <td>189.524891</td>\n",
       "      <td>168</td>\n",
       "    </tr>\n",
       "    <tr>\n",
       "      <th>21</th>\n",
       "      <td>은평구</td>\n",
       "      <td>184.450518</td>\n",
       "      <td>249</td>\n",
       "    </tr>\n",
       "    <tr>\n",
       "      <th>22</th>\n",
       "      <td>종로구</td>\n",
       "      <td>223.176595</td>\n",
       "      <td>216</td>\n",
       "    </tr>\n",
       "    <tr>\n",
       "      <th>23</th>\n",
       "      <td>중구</td>\n",
       "      <td>245.438487</td>\n",
       "      <td>136</td>\n",
       "    </tr>\n",
       "    <tr>\n",
       "      <th>24</th>\n",
       "      <td>중랑구</td>\n",
       "      <td>204.636419</td>\n",
       "      <td>202</td>\n",
       "    </tr>\n",
       "  </tbody>\n",
       "</table>\n",
       "</div>"
      ],
      "text/plain": [
       "   CTY_NM       ratio  tot\n",
       "0     강남구  117.501236  304\n",
       "1     강동구  130.707905  201\n",
       "2     강북구  255.741946  162\n",
       "3     강서구  151.529412  325\n",
       "4     관악구  232.544572  250\n",
       "5     광진구  164.941084  158\n",
       "6     구로구  180.530203  283\n",
       "7     금천구  211.962286  167\n",
       "8     노원구  155.835207  375\n",
       "9     도봉구  214.057018  218\n",
       "10   동대문구  196.919653  200\n",
       "11    동작구  177.251917  254\n",
       "12    마포구  140.931947  274\n",
       "13   서대문구  175.863324  165\n",
       "14    서초구  108.378422  264\n",
       "15    성동구  157.095413  286\n",
       "16    성북구  160.204750  283\n",
       "17    송파구  122.487458  301\n",
       "18    양천구  120.534893  266\n",
       "19   영등포구  162.996595  297\n",
       "20    용산구  189.524891  168\n",
       "21    은평구  184.450518  249\n",
       "22    종로구  223.176595  216\n",
       "23     중구  245.438487  136\n",
       "24    중랑구  204.636419  202"
      ]
     },
     "execution_count": 20,
     "metadata": {},
     "output_type": "execute_result"
    }
   ],
   "source": [
    "data = pd.read_csv('clustering_data.csv')\n",
    "data.drop(['Unnamed: 0'],axis = 1,inplace = True)\n",
    "data"
   ]
  },
  {
   "cell_type": "code",
   "execution_count": 21,
   "id": "61a03407-4229-47ce-872a-50a3b301d3a3",
   "metadata": {},
   "outputs": [
    {
     "data": {
      "image/png": "[encoded data removed]",
      "text/plain": [
       "<Figure size 432x288 with 1 Axes>"
      ]
     },
     "metadata": {
      "needs_background": "light"
     },
     "output_type": "display_data"
    }
   ],
   "source": [
    "sns.scatterplot(x=\"ratio\", y=\"tot\", data=data, palette=\"Set2\");"
   ]
  },
  {
   "cell_type": "code",
   "execution_count": 22,
   "id": "c59f6270-44e2-4e57-87b0-63359016e6d8",
   "metadata": {},
   "outputs": [],
   "source": [
    "data2 = data.set_index(data['CTY_NM']).drop(['CTY_NM'],axis = 1)"
   ]
  },
  {
   "cell_type": "markdown",
   "id": "f8c7ac28-606f-4f5b-a837-9e71ca63798a",
   "metadata": {},
   "source": [
    "# 2. 최적의 군집수 찾기"
   ]
  },
  {
   "cell_type": "code",
   "execution_count": 23,
   "id": "d9e09c25-378f-4ea5-8ad8-132c8f178028",
   "metadata": {},
   "outputs": [
    {
     "data": {
      "image/png": "[encoded data removed]",
      "text/plain": [
       "<Figure size 432x288 with 1 Axes>"
      ]
     },
     "metadata": {
      "needs_background": "light"
     },
     "output_type": "display_data"
    }
   ],
   "source": [
    "# k=2로 KMedoids clustering 실행\n",
    "kmedoids = KMedoids(n_clusters=2, random_state=0).fit(data2)\n",
    "\n",
    "# 결과 확인\n",
    "result_by_sklearn = data2.copy()\n",
    "result_by_sklearn[\"cluster\"] = kmedoids.labels_\n",
    "\n",
    "result_by_sklearn.sort_values(by = 'cluster')\n",
    "sns.scatterplot(x=\"ratio\", y=\"tot\", hue=\"cluster\", data=result_by_sklearn, palette=\"Set2\");"
   ]
  },
  {
   "cell_type": "markdown",
   "id": "875f795e-7825-40a8-be31-ac787ebd207b",
   "metadata": {},
   "source": [
    "## 1) elbow method로 최적의 군집 수 찾기"
   ]
  },
  {
   "cell_type": "code",
   "execution_count": 24,
   "id": "b63f8a38-140b-471c-9049-7c42f131845d",
   "metadata": {},
   "outputs": [
    {
     "data": {
      "image/png": "[encoded data removed]",
      "text/plain": [
       "<Figure size 1152x576 with 1 Axes>"
      ]
     },
     "metadata": {
      "needs_background": "light"
     },
     "output_type": "display_data"
    }
   ],
   "source": [
    "distortions = []\n",
    "\n",
    "K = range(1,10)\n",
    "\n",
    "for k in K:\n",
    "    KMedoidsModel = KMedoids(n_clusters=k)\n",
    "    KMedoidsModel.fit(data2)\n",
    "    distortions.append(KMedoidsModel.inertia_)\n",
    "    \n",
    "plt.figure(figsize=(16,8))\n",
    "plt.plot(K, distortions, 'bx-')\n",
    "plt.xlabel('k')\n",
    "plt.ylabel('Distortion')\n",
    "plt.title('The Elbow Method showing the optimal k')\n",
    "plt.show()"
   ]
  },
  {
   "cell_type": "markdown",
   "id": "f0990478-3bc1-48b6-bbc6-9b7652b8a0f8",
   "metadata": {},
   "source": [
    "# 3. 스케일링\n",
    "- 스케일링을 통해서 다른결과가 도출되는지 확인"
   ]
  },
  {
   "cell_type": "markdown",
   "id": "247dd269-4b3a-4a60-9762-e4adab058b26",
   "metadata": {},
   "source": [
    "## 1) StandardScaler "
   ]
  },
  {
   "cell_type": "code",
   "execution_count": 25,
   "id": "11fb8deb-4592-4fd6-93b7-38968a8b359a",
   "metadata": {},
   "outputs": [],
   "source": [
    "from sklearn.preprocessing import StandardScaler\n",
    "\n",
    "# Standardization 평균 0 / 분산 1\n",
    "scaler = StandardScaler()   \n",
    "scaler.fit(data2)\n",
    "scaled_data = scaler.transform(data2)"
   ]
  },
  {
   "cell_type": "code",
   "execution_count": 26,
   "id": "4e1633f3-d70c-4f00-ad18-73c53223a55b",
   "metadata": {},
   "outputs": [
    {
     "data": {
      "text/html": [
       "<div>\n",
       "<style scoped>\n",
       "    .dataframe tbody tr th:only-of-type {\n",
       "        vertical-align: middle;\n",
       "    }\n",
       "\n",
       "    .dataframe tbody tr th {\n",
       "        vertical-align: top;\n",
       "    }\n",
       "\n",
       "    .dataframe thead th {\n",
       "        text-align: right;\n",
       "    }\n",
       "</style>\n",
       "<table border=\"1\" class=\"dataframe\">\n",
       "  <thead>\n",
       "    <tr style=\"text-align: right;\">\n",
       "      <th></th>\n",
       "      <th>ratio</th>\n",
       "      <th>tot</th>\n",
       "    </tr>\n",
       "  </thead>\n",
       "  <tbody>\n",
       "    <tr>\n",
       "      <th>강남구</th>\n",
       "      <td>-1.447892</td>\n",
       "      <td>1.061049</td>\n",
       "    </tr>\n",
       "    <tr>\n",
       "      <th>강동구</th>\n",
       "      <td>-1.117684</td>\n",
       "      <td>-0.650856</td>\n",
       "    </tr>\n",
       "    <tr>\n",
       "      <th>강북구</th>\n",
       "      <td>2.008557</td>\n",
       "      <td>-1.299053</td>\n",
       "    </tr>\n",
       "    <tr>\n",
       "      <th>강서구</th>\n",
       "      <td>-0.597081</td>\n",
       "      <td>1.410078</td>\n",
       "    </tr>\n",
       "    <tr>\n",
       "      <th>관악구</th>\n",
       "      <td>1.428550</td>\n",
       "      <td>0.163545</td>\n",
       "    </tr>\n",
       "    <tr>\n",
       "      <th>광진구</th>\n",
       "      <td>-0.261748</td>\n",
       "      <td>-1.365535</td>\n",
       "    </tr>\n",
       "    <tr>\n",
       "      <th>구로구</th>\n",
       "      <td>0.128029</td>\n",
       "      <td>0.712020</td>\n",
       "    </tr>\n",
       "    <tr>\n",
       "      <th>금천구</th>\n",
       "      <td>0.913929</td>\n",
       "      <td>-1.215951</td>\n",
       "    </tr>\n",
       "    <tr>\n",
       "      <th>노원구</th>\n",
       "      <td>-0.489423</td>\n",
       "      <td>2.241100</td>\n",
       "    </tr>\n",
       "    <tr>\n",
       "      <th>도봉구</th>\n",
       "      <td>0.966304</td>\n",
       "      <td>-0.368309</td>\n",
       "    </tr>\n",
       "    <tr>\n",
       "      <th>동대문구</th>\n",
       "      <td>0.537816</td>\n",
       "      <td>-0.667477</td>\n",
       "    </tr>\n",
       "    <tr>\n",
       "      <th>동작구</th>\n",
       "      <td>0.046062</td>\n",
       "      <td>0.230027</td>\n",
       "    </tr>\n",
       "    <tr>\n",
       "      <th>마포구</th>\n",
       "      <td>-0.862051</td>\n",
       "      <td>0.562436</td>\n",
       "    </tr>\n",
       "    <tr>\n",
       "      <th>서대문구</th>\n",
       "      <td>0.011342</td>\n",
       "      <td>-1.249192</td>\n",
       "    </tr>\n",
       "    <tr>\n",
       "      <th>서초구</th>\n",
       "      <td>-1.675991</td>\n",
       "      <td>0.396231</td>\n",
       "    </tr>\n",
       "    <tr>\n",
       "      <th>성동구</th>\n",
       "      <td>-0.457914</td>\n",
       "      <td>0.761881</td>\n",
       "    </tr>\n",
       "    <tr>\n",
       "      <th>성북구</th>\n",
       "      <td>-0.380171</td>\n",
       "      <td>0.712020</td>\n",
       "    </tr>\n",
       "    <tr>\n",
       "      <th>송파구</th>\n",
       "      <td>-1.323221</td>\n",
       "      <td>1.011187</td>\n",
       "    </tr>\n",
       "    <tr>\n",
       "      <th>양천구</th>\n",
       "      <td>-1.372041</td>\n",
       "      <td>0.429472</td>\n",
       "    </tr>\n",
       "    <tr>\n",
       "      <th>영등포구</th>\n",
       "      <td>-0.310366</td>\n",
       "      <td>0.944706</td>\n",
       "    </tr>\n",
       "    <tr>\n",
       "      <th>용산구</th>\n",
       "      <td>0.352924</td>\n",
       "      <td>-1.199331</td>\n",
       "    </tr>\n",
       "    <tr>\n",
       "      <th>은평구</th>\n",
       "      <td>0.226049</td>\n",
       "      <td>0.146925</td>\n",
       "    </tr>\n",
       "    <tr>\n",
       "      <th>종로구</th>\n",
       "      <td>1.194322</td>\n",
       "      <td>-0.401550</td>\n",
       "    </tr>\n",
       "    <tr>\n",
       "      <th>중구</th>\n",
       "      <td>1.750939</td>\n",
       "      <td>-1.731185</td>\n",
       "    </tr>\n",
       "    <tr>\n",
       "      <th>중랑구</th>\n",
       "      <td>0.730760</td>\n",
       "      <td>-0.634236</td>\n",
       "    </tr>\n",
       "  </tbody>\n",
       "</table>\n",
       "</div>"
      ],
      "text/plain": [
       "         ratio       tot\n",
       "강남구  -1.447892  1.061049\n",
       "강동구  -1.117684 -0.650856\n",
       "강북구   2.008557 -1.299053\n",
       "강서구  -0.597081  1.410078\n",
       "관악구   1.428550  0.163545\n",
       "광진구  -0.261748 -1.365535\n",
       "구로구   0.128029  0.712020\n",
       "금천구   0.913929 -1.215951\n",
       "노원구  -0.489423  2.241100\n",
       "도봉구   0.966304 -0.368309\n",
       "동대문구  0.537816 -0.667477\n",
       "동작구   0.046062  0.230027\n",
       "마포구  -0.862051  0.562436\n",
       "서대문구  0.011342 -1.249192\n",
       "서초구  -1.675991  0.396231\n",
       "성동구  -0.457914  0.761881\n",
       "성북구  -0.380171  0.712020\n",
       "송파구  -1.323221  1.011187\n",
       "양천구  -1.372041  0.429472\n",
       "영등포구 -0.310366  0.944706\n",
       "용산구   0.352924 -1.199331\n",
       "은평구   0.226049  0.146925\n",
       "종로구   1.194322 -0.401550\n",
       "중구    1.750939 -1.731185\n",
       "중랑구   0.730760 -0.634236"
      ]
     },
     "execution_count": 26,
     "metadata": {},
     "output_type": "execute_result"
    }
   ],
   "source": [
    "scaled_data\n",
    "\n",
    "#dataframe으로 만들기\n",
    "StandardScaler_scaled_data = pd.DataFrame(scaled_data, columns=data2.columns, index=list(data2.index.values))\n",
    "StandardScaler_scaled_data"
   ]
  },
  {
   "cell_type": "code",
   "execution_count": 27,
   "id": "86bdf0f1-5140-4568-93e2-be139dfd398b",
   "metadata": {},
   "outputs": [
    {
     "data": {
      "image/png": "[encoded data removed]",
      "text/plain": [
       "<Figure size 1152x576 with 1 Axes>"
      ]
     },
     "metadata": {
      "needs_background": "light"
     },
     "output_type": "display_data"
    }
   ],
   "source": [
    "\n",
    "distortions = []\n",
    "\n",
    "K = range(1,10)\n",
    "\n",
    "for k in K:\n",
    "    KMedoidsModel = KMedoids(n_clusters=k)\n",
    "    KMedoidsModel.fit(scaled_data)\n",
    "    distortions.append(KMedoidsModel.inertia_)\n",
    "    \n",
    "plt.figure(figsize=(16,8))\n",
    "plt.plot(K, distortions, 'bx-')\n",
    "plt.xlabel('k')\n",
    "plt.ylabel('Distortion')\n",
    "plt.title('The Elbow Method showing the optimal k')\n",
    "plt.show()"
   ]
  },
  {
   "cell_type": "markdown",
   "id": "7b5b5472-9348-44d4-aef0-e78475984713",
   "metadata": {},
   "source": [
    "## 2) MinMaxScaler"
   ]
  },
  {
   "cell_type": "code",
   "execution_count": 28,
   "id": "debd47cd-5718-4297-ba0c-a5311972c9a7",
   "metadata": {},
   "outputs": [],
   "source": [
    "from sklearn.preprocessing import MinMaxScaler"
   ]
  },
  {
   "cell_type": "code",
   "execution_count": 29,
   "id": "e64fcfc6-5ca5-4008-a070-dc23396699d9",
   "metadata": {},
   "outputs": [],
   "source": [
    "min_max_scaler = MinMaxScaler()\n",
    "min_max_scaler.fit(data2)\n",
    "scaled_data = min_max_scaler.transform(data2)"
   ]
  },
  {
   "cell_type": "code",
   "execution_count": 30,
   "id": "876f2fef-d85a-42be-95de-0048c12e8c94",
   "metadata": {
    "tags": []
   },
   "outputs": [
    {
     "data": {
      "text/html": [
       "<div>\n",
       "<style scoped>\n",
       "    .dataframe tbody tr th:only-of-type {\n",
       "        vertical-align: middle;\n",
       "    }\n",
       "\n",
       "    .dataframe tbody tr th {\n",
       "        vertical-align: top;\n",
       "    }\n",
       "\n",
       "    .dataframe thead th {\n",
       "        text-align: right;\n",
       "    }\n",
       "</style>\n",
       "<table border=\"1\" class=\"dataframe\">\n",
       "  <thead>\n",
       "    <tr style=\"text-align: right;\">\n",
       "      <th></th>\n",
       "      <th>ratio</th>\n",
       "      <th>tot</th>\n",
       "    </tr>\n",
       "  </thead>\n",
       "  <tbody>\n",
       "    <tr>\n",
       "      <th>강남구</th>\n",
       "      <td>0.061907</td>\n",
       "      <td>0.702929</td>\n",
       "    </tr>\n",
       "    <tr>\n",
       "      <th>강동구</th>\n",
       "      <td>0.151527</td>\n",
       "      <td>0.271967</td>\n",
       "    </tr>\n",
       "    <tr>\n",
       "      <th>강북구</th>\n",
       "      <td>1.000000</td>\n",
       "      <td>0.108787</td>\n",
       "    </tr>\n",
       "    <tr>\n",
       "      <th>강서구</th>\n",
       "      <td>0.292820</td>\n",
       "      <td>0.790795</td>\n",
       "    </tr>\n",
       "    <tr>\n",
       "      <th>관악구</th>\n",
       "      <td>0.842584</td>\n",
       "      <td>0.476987</td>\n",
       "    </tr>\n",
       "    <tr>\n",
       "      <th>광진구</th>\n",
       "      <td>0.383831</td>\n",
       "      <td>0.092050</td>\n",
       "    </tr>\n",
       "    <tr>\n",
       "      <th>구로구</th>\n",
       "      <td>0.489618</td>\n",
       "      <td>0.615063</td>\n",
       "    </tr>\n",
       "    <tr>\n",
       "      <th>금천구</th>\n",
       "      <td>0.702914</td>\n",
       "      <td>0.129707</td>\n",
       "    </tr>\n",
       "    <tr>\n",
       "      <th>노원구</th>\n",
       "      <td>0.322039</td>\n",
       "      <td>1.000000</td>\n",
       "    </tr>\n",
       "    <tr>\n",
       "      <th>도봉구</th>\n",
       "      <td>0.717129</td>\n",
       "      <td>0.343096</td>\n",
       "    </tr>\n",
       "    <tr>\n",
       "      <th>동대문구</th>\n",
       "      <td>0.600835</td>\n",
       "      <td>0.267782</td>\n",
       "    </tr>\n",
       "    <tr>\n",
       "      <th>동작구</th>\n",
       "      <td>0.467371</td>\n",
       "      <td>0.493724</td>\n",
       "    </tr>\n",
       "    <tr>\n",
       "      <th>마포구</th>\n",
       "      <td>0.220906</td>\n",
       "      <td>0.577406</td>\n",
       "    </tr>\n",
       "    <tr>\n",
       "      <th>서대문구</th>\n",
       "      <td>0.457948</td>\n",
       "      <td>0.121339</td>\n",
       "    </tr>\n",
       "    <tr>\n",
       "      <th>서초구</th>\n",
       "      <td>0.000000</td>\n",
       "      <td>0.535565</td>\n",
       "    </tr>\n",
       "    <tr>\n",
       "      <th>성동구</th>\n",
       "      <td>0.330591</td>\n",
       "      <td>0.627615</td>\n",
       "    </tr>\n",
       "    <tr>\n",
       "      <th>성북구</th>\n",
       "      <td>0.351690</td>\n",
       "      <td>0.615063</td>\n",
       "    </tr>\n",
       "    <tr>\n",
       "      <th>송파구</th>\n",
       "      <td>0.095743</td>\n",
       "      <td>0.690377</td>\n",
       "    </tr>\n",
       "    <tr>\n",
       "      <th>양천구</th>\n",
       "      <td>0.082493</td>\n",
       "      <td>0.543933</td>\n",
       "    </tr>\n",
       "    <tr>\n",
       "      <th>영등포구</th>\n",
       "      <td>0.370636</td>\n",
       "      <td>0.673640</td>\n",
       "    </tr>\n",
       "    <tr>\n",
       "      <th>용산구</th>\n",
       "      <td>0.550655</td>\n",
       "      <td>0.133891</td>\n",
       "    </tr>\n",
       "    <tr>\n",
       "      <th>은평구</th>\n",
       "      <td>0.516221</td>\n",
       "      <td>0.472803</td>\n",
       "    </tr>\n",
       "    <tr>\n",
       "      <th>종로구</th>\n",
       "      <td>0.779013</td>\n",
       "      <td>0.334728</td>\n",
       "    </tr>\n",
       "    <tr>\n",
       "      <th>중구</th>\n",
       "      <td>0.930081</td>\n",
       "      <td>0.000000</td>\n",
       "    </tr>\n",
       "    <tr>\n",
       "      <th>중랑구</th>\n",
       "      <td>0.653201</td>\n",
       "      <td>0.276151</td>\n",
       "    </tr>\n",
       "  </tbody>\n",
       "</table>\n",
       "</div>"
      ],
      "text/plain": [
       "         ratio       tot\n",
       "강남구   0.061907  0.702929\n",
       "강동구   0.151527  0.271967\n",
       "강북구   1.000000  0.108787\n",
       "강서구   0.292820  0.790795\n",
       "관악구   0.842584  0.476987\n",
       "광진구   0.383831  0.092050\n",
       "구로구   0.489618  0.615063\n",
       "금천구   0.702914  0.129707\n",
       "노원구   0.322039  1.000000\n",
       "도봉구   0.717129  0.343096\n",
       "동대문구  0.600835  0.267782\n",
       "동작구   0.467371  0.493724\n",
       "마포구   0.220906  0.577406\n",
       "서대문구  0.457948  0.121339\n",
       "서초구   0.000000  0.535565\n",
       "성동구   0.330591  0.627615\n",
       "성북구   0.351690  0.615063\n",
       "송파구   0.095743  0.690377\n",
       "양천구   0.082493  0.543933\n",
       "영등포구  0.370636  0.673640\n",
       "용산구   0.550655  0.133891\n",
       "은평구   0.516221  0.472803\n",
       "종로구   0.779013  0.334728\n",
       "중구    0.930081  0.000000\n",
       "중랑구   0.653201  0.276151"
      ]
     },
     "execution_count": 30,
     "metadata": {},
     "output_type": "execute_result"
    }
   ],
   "source": [
    "scaled_data\n",
    "#dataframe으로 만들기\n",
    "MinMax_scaled_data = pd.DataFrame(scaled_data, columns=data2.columns, index=list(data2.index.values))\n",
    "MinMax_scaled_data\n"
   ]
  },
  {
   "cell_type": "code",
   "execution_count": 31,
   "id": "00f19add-7bdd-4ab7-99f0-f0417228c358",
   "metadata": {},
   "outputs": [
    {
     "data": {
      "image/png": "[encoded data removed]",
      "text/plain": [
       "<Figure size 1152x576 with 1 Axes>"
      ]
     },
     "metadata": {
      "needs_background": "light"
     },
     "output_type": "display_data"
    }
   ],
   "source": [
    "distortions = []\n",
    "\n",
    "K = range(1,10)\n",
    "\n",
    "for k in K:\n",
    "    KMedoidsModel = KMedoids(n_clusters=k)\n",
    "    KMedoidsModel.fit(scaled_data)\n",
    "    distortions.append(KMedoidsModel.inertia_)\n",
    "    \n",
    "plt.figure(figsize=(16,8))\n",
    "plt.plot(K, distortions, 'bx-')\n",
    "plt.xlabel('k')\n",
    "plt.ylabel('Distortion')\n",
    "plt.title('The Elbow Method showing the optimal k')\n",
    "plt.show()"
   ]
  },
  {
   "cell_type": "code",
   "execution_count": 33,
   "id": "de12768e-b94a-4647-8460-75a16d9aa42b",
   "metadata": {},
   "outputs": [
    {
     "data": {
      "image/png": "[encoded data removed]",
      "text/plain": [
       "<Figure size 432x288 with 1 Axes>"
      ]
     },
     "metadata": {
      "needs_background": "light"
     },
     "output_type": "display_data"
    }
   ],
   "source": [
    "# k-means clustering 실행\n",
    "kmedoids = KMedoids(n_clusters=8, random_state=0).fit(MinMax_scaled_data)\n",
    "\n",
    "# 결과 확인\n",
    "result_by_sklearn = MinMax_scaled_data.copy()\n",
    "result_by_sklearn[\"cluster\"] = kmedoids.labels_\n",
    "\n",
    "result_by_sklearn.sort_values(by = 'cluster')\n",
    "sns.scatterplot(x=\"ratio\", y=\"tot\", hue=\"cluster\", data=result_by_sklearn, palette=\"Set2\");"
   ]
  },
  {
   "cell_type": "markdown",
   "id": "39c37c0b-c76b-4cec-93c1-0cd461073eea",
   "metadata": {},
   "source": [
    "***<<<스케일링을 통해서 다른 결과가 도출될 수도 있을 것 같음>>>***"
   ]
  },
  {
   "cell_type": "markdown",
   "id": "ca4a9abf-ac7e-484c-ba7e-b0f2b3951a8e",
   "metadata": {},
   "source": [
    "# 4. 실루엣 분석으로 최적의 군집 수 찾기"
   ]
  },
  {
   "cell_type": "markdown",
   "id": "8c839062-8da0-4fbe-a531-b42371cda228",
   "metadata": {},
   "source": [
    "## 1) 실루엣 분석 하는법"
   ]
  },
  {
   "cell_type": "markdown",
   "id": "e0ba16a5-47e1-4f19-89c8-c6abfca5411b",
   "metadata": {},
   "source": [
    "sklearn을 이용해서 실루엣 분석"
   ]
  },
  {
   "cell_type": "code",
   "execution_count": 34,
   "id": "764f93ed-f396-4f51-94b6-9689d8f17fe3",
   "metadata": {
    "tags": []
   },
   "outputs": [],
   "source": [
    "from sklearn.metrics import silhouette_samples, silhouette_score"
   ]
  },
  {
   "cell_type": "code",
   "execution_count": 39,
   "id": "5e2d9de5-faa8-4e29-bdfa-90c21dbd6dd5",
   "metadata": {
    "tags": []
   },
   "outputs": [
    {
     "data": {
      "image/png": "[encoded data removed]",
      "text/plain": [
       "<Figure size 432x288 with 1 Axes>"
      ]
     },
     "metadata": {
      "needs_background": "light"
     },
     "output_type": "display_data"
    }
   ],
   "source": [
    "kmedoids = KMedoids(n_clusters=4, random_state=0).fit(data2)\n",
    "\n",
    "# 결과 확인\n",
    "result_by_sklearn = data2.copy()\n",
    "result_by_sklearn[\"cluster\"] = kmedoids.labels_\n",
    "\n",
    "result_by_sklearn.sort_values(by = 'cluster')\n",
    "sns.scatterplot(x=\"ratio\", y=\"tot\", hue=\"cluster\", data=result_by_sklearn, palette=\"Set2\");"
   ]
  },
  {
   "cell_type": "code",
   "execution_count": 40,
   "id": "2ba07b1a-f236-4bb4-9e4b-6a586aa9a609",
   "metadata": {
    "tags": []
   },
   "outputs": [
    {
     "name": "stdout",
     "output_type": "stream",
     "text": [
      "(25,)\n",
      "[ 0.14888205 -0.00209019  0.39627005 -0.19889214  0.21436554  0.34716427\n",
      "  0.54522985  0.50828911  0.02070642 -0.05518293  0.15593026 -0.19490952\n",
      "  0.39189744  0.41102695 -0.025145    0.70191074  0.72023361  0.06725254\n",
      " -0.16887477  0.60988554  0.47466444  0.04458975 -0.13608295  0.43894631\n",
      "  0.14519412]\n"
     ]
    }
   ],
   "source": [
    "score_samples = silhouette_samples(data2.to_numpy(), result_by_sklearn['cluster'])\n",
    "print(score_samples.shape)\n",
    "print(score_samples)"
   ]
  },
  {
   "cell_type": "code",
   "execution_count": 41,
   "id": "f83aee25-aa24-41a6-9943-55a3c3fa5100",
   "metadata": {},
   "outputs": [
    {
     "name": "stdout",
     "output_type": "stream",
     "text": [
      "데이터셋 Silhouette Analysis Score: 0.22245046015089204\n"
     ]
    }
   ],
   "source": [
    "# result_by_sklearn에 실루엣 계수 열 추가\n",
    "result_by_sklearn['silhouette_coeff'] = score_samples\n",
    "\n",
    "# 모든 데이터의 평균 실루엣 계수값을 구함.  \n",
    "average_score = silhouette_score(data2.to_numpy(), result_by_sklearn['cluster'])\n",
    "print('데이터셋 Silhouette Analysis Score:', average_score)"
   ]
  },
  {
   "cell_type": "code",
   "execution_count": 42,
   "id": "440e89a6-ac80-44b9-83ae-d893e23ec266",
   "metadata": {},
   "outputs": [
    {
     "data": {
      "text/plain": [
       "cluster\n",
       "0    0.001355\n",
       "1    0.304600\n",
       "2    0.593831\n",
       "3   -0.026012\n",
       "Name: silhouette_coeff, dtype: float64"
      ]
     },
     "execution_count": 42,
     "metadata": {},
     "output_type": "execute_result"
    }
   ],
   "source": [
    "result_by_sklearn.groupby('cluster')['silhouette_coeff'].mean()"
   ]
  },
  {
   "cell_type": "markdown",
   "id": "44a16431-0a92-4214-ae02-addefadd21a9",
   "metadata": {},
   "source": [
    "## 2) 시각화를 통해 군집의 개수 정하기"
   ]
  },
  {
   "cell_type": "markdown",
   "id": "57c0ae37-3cf0-47f8-94b5-a212c70a30fb",
   "metadata": {},
   "source": [
    "### a. 시각화 함수"
   ]
  },
  {
   "cell_type": "code",
   "execution_count": 43,
   "id": "8f9f4f39-b9b0-4c3f-8bf9-69ea10db9f22",
   "metadata": {},
   "outputs": [],
   "source": [
    "### 여러개의 클러스터링 갯수를 List로 입력 받아 각각의 실루엣 계수를 면적으로 시각화한 함수 작성\n",
    "\n",
    "def visualize_silhouette(cluster_lists, X_features): \n",
    "\n",
    "    from sklearn.datasets import make_blobs\n",
    "    from sklearn.cluster import KMeans\n",
    "    from sklearn.metrics import silhouette_samples, silhouette_score\n",
    "\n",
    "    import matplotlib.pyplot as plt\n",
    "    import matplotlib.cm as cm\n",
    "    import math\n",
    "\n",
    "    # 입력값으로 클러스터링 갯수들을 리스트로 받아서, 각 갯수별로 클러스터링을 적용하고 실루엣 개수를 구함\n",
    "    n_cols = len(cluster_lists)\n",
    "\n",
    "    # plt.subplots()으로 리스트에 기재된 클러스터링 수만큼의 sub figures를 가지는 axs 생성 \n",
    "    fig, axs = plt.subplots(figsize=(4*n_cols, 4), nrows=1, ncols=n_cols)\n",
    "\n",
    "    # 리스트에 기재된 클러스터링 갯수들을 차례로 iteration 수행하면서 실루엣 개수 시각화\n",
    "    for ind, n_cluster in enumerate(cluster_lists):\n",
    "\n",
    "        # KMeans 클러스터링 수행하고, 실루엣 스코어와 개별 데이터의 실루엣 값 계산. \n",
    "        clusterer = KMeans(n_clusters = n_cluster, max_iter=500, random_state=0)\n",
    "        cluster_labels = clusterer.fit_predict(X_features)\n",
    "\n",
    "        sil_avg = silhouette_score(X_features, cluster_labels)\n",
    "        sil_values = silhouette_samples(X_features, cluster_labels)\n",
    "\n",
    "        y_lower = 10\n",
    "        axs[ind].set_title('Number of Cluster : '+ str(n_cluster)+'\\n' \\\n",
    "                          'Silhouette Score :' + str(round(sil_avg,3)) )\n",
    "        axs[ind].set_xlabel(\"The silhouette coefficient values\")\n",
    "        axs[ind].set_ylabel(\"Cluster label\")\n",
    "        axs[ind].set_xlim([-0.1, 1])\n",
    "        axs[ind].set_ylim([0, len(X_features) + (n_cluster + 1) * 10])\n",
    "        axs[ind].set_yticks([])  # Clear the yaxis labels / ticks\n",
    "        axs[ind].set_xticks([0, 0.2, 0.4, 0.6, 0.8, 1])\n",
    "\n",
    "        # 클러스터링 갯수별로 fill_betweenx( )형태의 막대 그래프 표현. \n",
    "        for i in range(n_cluster):\n",
    "            ith_cluster_sil_values = sil_values[cluster_labels==i]\n",
    "            ith_cluster_sil_values.sort()\n",
    "\n",
    "            size_cluster_i = ith_cluster_sil_values.shape[0]\n",
    "            y_upper = y_lower + size_cluster_i\n",
    "\n",
    "            color = cm.nipy_spectral(float(i) / n_cluster)\n",
    "            axs[ind].fill_betweenx(np.arange(y_lower, y_upper), 0, ith_cluster_sil_values, \\\n",
    "                                facecolor=color, edgecolor=color, alpha=0.7)\n",
    "            axs[ind].text(-0.05, y_lower + 0.5 * size_cluster_i, str(i))\n",
    "            y_lower = y_upper + 10\n",
    "\n",
    "        axs[ind].axvline(x=sil_avg, color=\"red\", linestyle=\"--\")"
   ]
  },
  {
   "cell_type": "code",
   "execution_count": 44,
   "id": "eedda511-b722-4790-a140-cd28c2bfefa9",
   "metadata": {},
   "outputs": [
    {
     "data": {
      "image/png": "[encoded data removed]",
      "text/plain": [
       "<Figure size 2016x288 with 7 Axes>"
      ]
     },
     "metadata": {
      "needs_background": "light"
     },
     "output_type": "display_data"
    }
   ],
   "source": [
    "visualize_silhouette([2,3,4,5,6,7,8 ], data2.to_numpy())"
   ]
  },
  {
   "cell_type": "markdown",
   "id": "e30e7bca-e3e3-42b1-a3ba-861de79cd19b",
   "metadata": {},
   "source": [
    "## 3) 스케일링 한 데이터로 실루엣 분석 진행하기\n",
    "\n",
    "- MinMax나 Standard의 차이는 크지 않아 보여서 MinMax 데이터로만 진행"
   ]
  },
  {
   "cell_type": "code",
   "execution_count": 50,
   "id": "bb480f7b-f7ec-4a91-b2c0-55ee9612cbb4",
   "metadata": {},
   "outputs": [
    {
     "data": {
      "image/png": "[encoded data removed]",
      "text/plain": [
       "<Figure size 2016x288 with 7 Axes>"
      ]
     },
     "metadata": {
      "needs_background": "light"
     },
     "output_type": "display_data"
    }
   ],
   "source": [
    "visualize_silhouette([2,3,4,5,6,7,8 ], MinMax_scaled_data.to_numpy())"
   ]
  },
  {
   "cell_type": "markdown",
   "id": "690b293b-4c18-4724-ac9c-77c610fba1e4",
   "metadata": {},
   "source": [
    "## 4) 결과\n",
    "\n",
    "- 결과적으로 2개의 군집으로 나누는 것이 elbow method나 sulhouette Score에서 가장 적절한 양상을 보이고 있다\n",
    "- 다만 우선순위를 정하는 분석의 목적과 군집의 갯수가 적절하지 않다고 판단.\n",
    "- 6, 8 군집으로 진행하는 것이 적절하다고 판단된다.\n",
    "- 7,8 군집은 스케일링 전에 비해 높은 점수를 보이고 있으나 군집 중 0 이 나오는 결과가 있다.\n",
    "\n",
    "\n",
    "<span style=\"color:red\"> **6 군집은 각 군집마다 할당된 구의 수 차이가 너무 크다**</span>\n",
    "\n",
    "<span style=\"color:red\"> **스케일링 데이터가 더 점수가 높기 때문에 스케일링한 데이터 중 MinMax 데이터 사용**</span>"
   ]
  },
  {
   "cell_type": "markdown",
   "id": "d4da46cb-0a57-4034-8469-4b5da4d8fe1b",
   "metadata": {},
   "source": [
    "# 5. k-medoids 클러스터링"
   ]
  },
  {
   "cell_type": "code",
   "execution_count": 54,
   "id": "dff89a09-bb52-4afe-8da1-65846d98bbe9",
   "metadata": {},
   "outputs": [
    {
     "data": {
      "text/html": [
       "<div>\n",
       "<style scoped>\n",
       "    .dataframe tbody tr th:only-of-type {\n",
       "        vertical-align: middle;\n",
       "    }\n",
       "\n",
       "    .dataframe tbody tr th {\n",
       "        vertical-align: top;\n",
       "    }\n",
       "\n",
       "    .dataframe thead th {\n",
       "        text-align: right;\n",
       "    }\n",
       "</style>\n",
       "<table border=\"1\" class=\"dataframe\">\n",
       "  <thead>\n",
       "    <tr style=\"text-align: right;\">\n",
       "      <th></th>\n",
       "      <th>ratio</th>\n",
       "      <th>tot</th>\n",
       "      <th>cluster</th>\n",
       "    </tr>\n",
       "  </thead>\n",
       "  <tbody>\n",
       "    <tr>\n",
       "      <th>강남구</th>\n",
       "      <td>0.061907</td>\n",
       "      <td>0.702929</td>\n",
       "      <td>0</td>\n",
       "    </tr>\n",
       "    <tr>\n",
       "      <th>강동구</th>\n",
       "      <td>0.151527</td>\n",
       "      <td>0.271967</td>\n",
       "      <td>1</td>\n",
       "    </tr>\n",
       "    <tr>\n",
       "      <th>강북구</th>\n",
       "      <td>1.000000</td>\n",
       "      <td>0.108787</td>\n",
       "      <td>5</td>\n",
       "    </tr>\n",
       "    <tr>\n",
       "      <th>강서구</th>\n",
       "      <td>0.292820</td>\n",
       "      <td>0.790795</td>\n",
       "      <td>4</td>\n",
       "    </tr>\n",
       "    <tr>\n",
       "      <th>관악구</th>\n",
       "      <td>0.842584</td>\n",
       "      <td>0.476987</td>\n",
       "      <td>5</td>\n",
       "    </tr>\n",
       "    <tr>\n",
       "      <th>광진구</th>\n",
       "      <td>0.383831</td>\n",
       "      <td>0.092050</td>\n",
       "      <td>5</td>\n",
       "    </tr>\n",
       "    <tr>\n",
       "      <th>구로구</th>\n",
       "      <td>0.489618</td>\n",
       "      <td>0.615063</td>\n",
       "      <td>3</td>\n",
       "    </tr>\n",
       "    <tr>\n",
       "      <th>금천구</th>\n",
       "      <td>0.702914</td>\n",
       "      <td>0.129707</td>\n",
       "      <td>5</td>\n",
       "    </tr>\n",
       "    <tr>\n",
       "      <th>노원구</th>\n",
       "      <td>0.322039</td>\n",
       "      <td>1.000000</td>\n",
       "      <td>4</td>\n",
       "    </tr>\n",
       "    <tr>\n",
       "      <th>도봉구</th>\n",
       "      <td>0.717129</td>\n",
       "      <td>0.343096</td>\n",
       "      <td>5</td>\n",
       "    </tr>\n",
       "    <tr>\n",
       "      <th>동대문구</th>\n",
       "      <td>0.600835</td>\n",
       "      <td>0.267782</td>\n",
       "      <td>5</td>\n",
       "    </tr>\n",
       "    <tr>\n",
       "      <th>동작구</th>\n",
       "      <td>0.467371</td>\n",
       "      <td>0.493724</td>\n",
       "      <td>1</td>\n",
       "    </tr>\n",
       "    <tr>\n",
       "      <th>마포구</th>\n",
       "      <td>0.220906</td>\n",
       "      <td>0.577406</td>\n",
       "      <td>4</td>\n",
       "    </tr>\n",
       "    <tr>\n",
       "      <th>서대문구</th>\n",
       "      <td>0.457948</td>\n",
       "      <td>0.121339</td>\n",
       "      <td>5</td>\n",
       "    </tr>\n",
       "    <tr>\n",
       "      <th>서초구</th>\n",
       "      <td>0.000000</td>\n",
       "      <td>0.535565</td>\n",
       "      <td>0</td>\n",
       "    </tr>\n",
       "    <tr>\n",
       "      <th>성동구</th>\n",
       "      <td>0.330591</td>\n",
       "      <td>0.627615</td>\n",
       "      <td>4</td>\n",
       "    </tr>\n",
       "    <tr>\n",
       "      <th>성북구</th>\n",
       "      <td>0.351690</td>\n",
       "      <td>0.615063</td>\n",
       "      <td>4</td>\n",
       "    </tr>\n",
       "    <tr>\n",
       "      <th>송파구</th>\n",
       "      <td>0.095743</td>\n",
       "      <td>0.690377</td>\n",
       "      <td>0</td>\n",
       "    </tr>\n",
       "    <tr>\n",
       "      <th>양천구</th>\n",
       "      <td>0.082493</td>\n",
       "      <td>0.543933</td>\n",
       "      <td>0</td>\n",
       "    </tr>\n",
       "    <tr>\n",
       "      <th>영등포구</th>\n",
       "      <td>0.370636</td>\n",
       "      <td>0.673640</td>\n",
       "      <td>4</td>\n",
       "    </tr>\n",
       "    <tr>\n",
       "      <th>용산구</th>\n",
       "      <td>0.550655</td>\n",
       "      <td>0.133891</td>\n",
       "      <td>5</td>\n",
       "    </tr>\n",
       "    <tr>\n",
       "      <th>은평구</th>\n",
       "      <td>0.516221</td>\n",
       "      <td>0.472803</td>\n",
       "      <td>2</td>\n",
       "    </tr>\n",
       "    <tr>\n",
       "      <th>종로구</th>\n",
       "      <td>0.779013</td>\n",
       "      <td>0.334728</td>\n",
       "      <td>5</td>\n",
       "    </tr>\n",
       "    <tr>\n",
       "      <th>중구</th>\n",
       "      <td>0.930081</td>\n",
       "      <td>0.000000</td>\n",
       "      <td>5</td>\n",
       "    </tr>\n",
       "    <tr>\n",
       "      <th>중랑구</th>\n",
       "      <td>0.653201</td>\n",
       "      <td>0.276151</td>\n",
       "      <td>5</td>\n",
       "    </tr>\n",
       "  </tbody>\n",
       "</table>\n",
       "</div>"
      ],
      "text/plain": [
       "         ratio       tot  cluster\n",
       "강남구   0.061907  0.702929        0\n",
       "강동구   0.151527  0.271967        1\n",
       "강북구   1.000000  0.108787        5\n",
       "강서구   0.292820  0.790795        4\n",
       "관악구   0.842584  0.476987        5\n",
       "광진구   0.383831  0.092050        5\n",
       "구로구   0.489618  0.615063        3\n",
       "금천구   0.702914  0.129707        5\n",
       "노원구   0.322039  1.000000        4\n",
       "도봉구   0.717129  0.343096        5\n",
       "동대문구  0.600835  0.267782        5\n",
       "동작구   0.467371  0.493724        1\n",
       "마포구   0.220906  0.577406        4\n",
       "서대문구  0.457948  0.121339        5\n",
       "서초구   0.000000  0.535565        0\n",
       "성동구   0.330591  0.627615        4\n",
       "성북구   0.351690  0.615063        4\n",
       "송파구   0.095743  0.690377        0\n",
       "양천구   0.082493  0.543933        0\n",
       "영등포구  0.370636  0.673640        4\n",
       "용산구   0.550655  0.133891        5\n",
       "은평구   0.516221  0.472803        2\n",
       "종로구   0.779013  0.334728        5\n",
       "중구    0.930081  0.000000        5\n",
       "중랑구   0.653201  0.276151        5"
      ]
     },
     "execution_count": 54,
     "metadata": {},
     "output_type": "execute_result"
    }
   ],
   "source": [
    "result_by_sklearn"
   ]
  },
  {
   "cell_type": "code",
   "execution_count": 73,
   "id": "6ecce457-f4c7-4b99-8586-e319021117f6",
   "metadata": {},
   "outputs": [
    {
     "data": {
      "image/png": "[encoded data removed]",
      "text/plain": [
       "<Figure size 1080x576 with 1 Axes>"
      ]
     },
     "metadata": {},
     "output_type": "display_data"
    }
   ],
   "source": [
    "# k=6으로 클러스터링 진행\n",
    "kmedoids = KMedoids(n_clusters=8, random_state=0).fit(MinMax_scaled_data)\n",
    "\n",
    "# 결과 확인\n",
    "result_by_sklearn = MinMax_scaled_data.copy()\n",
    "result_by_sklearn[\"cluster\"] = kmedoids.labels_\n",
    "\n",
    "\n",
    "\n",
    "sns.set(rc = {'figure.figsize':(15,8)})\n",
    "plt.rcParams['font.family'] = 'Malgun Gothic'\n",
    "\n",
    "ax = sns.scatterplot(x=\"ratio\", y=\"tot\", hue=\"cluster\", data=result_by_sklearn, palette=\"Set3\", s = 70)\n",
    "for a,b,c in zip(result_by_sklearn.ratio, result_by_sklearn.tot, result_by_sklearn.index):\n",
    "    ax.text(a+0.01, b, c)"
   ]
  },
  {
   "cell_type": "code",
   "execution_count": 74,
   "id": "391d6e5b-6290-41cf-8821-4a419cf67933",
   "metadata": {},
   "outputs": [
    {
     "data": {
      "text/html": [
       "<div>\n",
       "<style scoped>\n",
       "    .dataframe tbody tr th:only-of-type {\n",
       "        vertical-align: middle;\n",
       "    }\n",
       "\n",
       "    .dataframe tbody tr th {\n",
       "        vertical-align: top;\n",
       "    }\n",
       "\n",
       "    .dataframe thead th {\n",
       "        text-align: right;\n",
       "    }\n",
       "</style>\n",
       "<table border=\"1\" class=\"dataframe\">\n",
       "  <thead>\n",
       "    <tr style=\"text-align: right;\">\n",
       "      <th></th>\n",
       "      <th>ratio</th>\n",
       "      <th>tot</th>\n",
       "      <th>cluster</th>\n",
       "    </tr>\n",
       "  </thead>\n",
       "  <tbody>\n",
       "    <tr>\n",
       "      <th>강남구</th>\n",
       "      <td>0.061907</td>\n",
       "      <td>0.702929</td>\n",
       "      <td>0</td>\n",
       "    </tr>\n",
       "    <tr>\n",
       "      <th>양천구</th>\n",
       "      <td>0.082493</td>\n",
       "      <td>0.543933</td>\n",
       "      <td>0</td>\n",
       "    </tr>\n",
       "    <tr>\n",
       "      <th>송파구</th>\n",
       "      <td>0.095743</td>\n",
       "      <td>0.690377</td>\n",
       "      <td>0</td>\n",
       "    </tr>\n",
       "    <tr>\n",
       "      <th>서초구</th>\n",
       "      <td>0.000000</td>\n",
       "      <td>0.535565</td>\n",
       "      <td>0</td>\n",
       "    </tr>\n",
       "    <tr>\n",
       "      <th>동작구</th>\n",
       "      <td>0.467371</td>\n",
       "      <td>0.493724</td>\n",
       "      <td>1</td>\n",
       "    </tr>\n",
       "    <tr>\n",
       "      <th>은평구</th>\n",
       "      <td>0.516221</td>\n",
       "      <td>0.472803</td>\n",
       "      <td>2</td>\n",
       "    </tr>\n",
       "    <tr>\n",
       "      <th>구로구</th>\n",
       "      <td>0.489618</td>\n",
       "      <td>0.615063</td>\n",
       "      <td>3</td>\n",
       "    </tr>\n",
       "    <tr>\n",
       "      <th>영등포구</th>\n",
       "      <td>0.370636</td>\n",
       "      <td>0.673640</td>\n",
       "      <td>4</td>\n",
       "    </tr>\n",
       "    <tr>\n",
       "      <th>성북구</th>\n",
       "      <td>0.351690</td>\n",
       "      <td>0.615063</td>\n",
       "      <td>4</td>\n",
       "    </tr>\n",
       "    <tr>\n",
       "      <th>성동구</th>\n",
       "      <td>0.330591</td>\n",
       "      <td>0.627615</td>\n",
       "      <td>4</td>\n",
       "    </tr>\n",
       "    <tr>\n",
       "      <th>마포구</th>\n",
       "      <td>0.220906</td>\n",
       "      <td>0.577406</td>\n",
       "      <td>4</td>\n",
       "    </tr>\n",
       "    <tr>\n",
       "      <th>서대문구</th>\n",
       "      <td>0.457948</td>\n",
       "      <td>0.121339</td>\n",
       "      <td>5</td>\n",
       "    </tr>\n",
       "    <tr>\n",
       "      <th>광진구</th>\n",
       "      <td>0.383831</td>\n",
       "      <td>0.092050</td>\n",
       "      <td>5</td>\n",
       "    </tr>\n",
       "    <tr>\n",
       "      <th>용산구</th>\n",
       "      <td>0.550655</td>\n",
       "      <td>0.133891</td>\n",
       "      <td>5</td>\n",
       "    </tr>\n",
       "    <tr>\n",
       "      <th>강동구</th>\n",
       "      <td>0.151527</td>\n",
       "      <td>0.271967</td>\n",
       "      <td>5</td>\n",
       "    </tr>\n",
       "    <tr>\n",
       "      <th>노원구</th>\n",
       "      <td>0.322039</td>\n",
       "      <td>1.000000</td>\n",
       "      <td>6</td>\n",
       "    </tr>\n",
       "    <tr>\n",
       "      <th>강서구</th>\n",
       "      <td>0.292820</td>\n",
       "      <td>0.790795</td>\n",
       "      <td>6</td>\n",
       "    </tr>\n",
       "    <tr>\n",
       "      <th>도봉구</th>\n",
       "      <td>0.717129</td>\n",
       "      <td>0.343096</td>\n",
       "      <td>7</td>\n",
       "    </tr>\n",
       "    <tr>\n",
       "      <th>중구</th>\n",
       "      <td>0.930081</td>\n",
       "      <td>0.000000</td>\n",
       "      <td>7</td>\n",
       "    </tr>\n",
       "    <tr>\n",
       "      <th>금천구</th>\n",
       "      <td>0.702914</td>\n",
       "      <td>0.129707</td>\n",
       "      <td>7</td>\n",
       "    </tr>\n",
       "    <tr>\n",
       "      <th>관악구</th>\n",
       "      <td>0.842584</td>\n",
       "      <td>0.476987</td>\n",
       "      <td>7</td>\n",
       "    </tr>\n",
       "    <tr>\n",
       "      <th>강북구</th>\n",
       "      <td>1.000000</td>\n",
       "      <td>0.108787</td>\n",
       "      <td>7</td>\n",
       "    </tr>\n",
       "    <tr>\n",
       "      <th>종로구</th>\n",
       "      <td>0.779013</td>\n",
       "      <td>0.334728</td>\n",
       "      <td>7</td>\n",
       "    </tr>\n",
       "    <tr>\n",
       "      <th>동대문구</th>\n",
       "      <td>0.600835</td>\n",
       "      <td>0.267782</td>\n",
       "      <td>7</td>\n",
       "    </tr>\n",
       "    <tr>\n",
       "      <th>중랑구</th>\n",
       "      <td>0.653201</td>\n",
       "      <td>0.276151</td>\n",
       "      <td>7</td>\n",
       "    </tr>\n",
       "  </tbody>\n",
       "</table>\n",
       "</div>"
      ],
      "text/plain": [
       "         ratio       tot  cluster\n",
       "강남구   0.061907  0.702929        0\n",
       "양천구   0.082493  0.543933        0\n",
       "송파구   0.095743  0.690377        0\n",
       "서초구   0.000000  0.535565        0\n",
       "동작구   0.467371  0.493724        1\n",
       "은평구   0.516221  0.472803        2\n",
       "구로구   0.489618  0.615063        3\n",
       "영등포구  0.370636  0.673640        4\n",
       "성북구   0.351690  0.615063        4\n",
       "성동구   0.330591  0.627615        4\n",
       "마포구   0.220906  0.577406        4\n",
       "서대문구  0.457948  0.121339        5\n",
       "광진구   0.383831  0.092050        5\n",
       "용산구   0.550655  0.133891        5\n",
       "강동구   0.151527  0.271967        5\n",
       "노원구   0.322039  1.000000        6\n",
       "강서구   0.292820  0.790795        6\n",
       "도봉구   0.717129  0.343096        7\n",
       "중구    0.930081  0.000000        7\n",
       "금천구   0.702914  0.129707        7\n",
       "관악구   0.842584  0.476987        7\n",
       "강북구   1.000000  0.108787        7\n",
       "종로구   0.779013  0.334728        7\n",
       "동대문구  0.600835  0.267782        7\n",
       "중랑구   0.653201  0.276151        7"
      ]
     },
     "execution_count": 74,
     "metadata": {},
     "output_type": "execute_result"
    }
   ],
   "source": [
    "result_by_sklearn.sort_values(by = 'cluster')"
   ]
  },
  {
   "cell_type": "markdown",
   "id": "649b9c9a-046e-424b-aab0-0dce1227bbb7",
   "metadata": {},
   "source": [
    "- 이 데이터에서 k=6은 부적절해 보인다\n",
    "\n",
    "- 그래서 원본데이터로 k=7로 클러스터링 해봄"
   ]
  },
  {
   "cell_type": "code",
   "execution_count": 79,
   "id": "022e7bc7-1641-456d-bc9b-b2ad3c60214f",
   "metadata": {},
   "outputs": [
    {
     "data": {
      "image/png": "[encoded data removed]",
      "text/plain": [
       "<Figure size 1080x576 with 1 Axes>"
      ]
     },
     "metadata": {},
     "output_type": "display_data"
    }
   ],
   "source": [
    "# k=7으로 클러스터링 진행\n",
    "kmedoids = KMedoids(n_clusters=7, random_state=0).fit(data2)\n",
    "\n",
    "# 결과 확인\n",
    "result_by_sklearn = data2.copy()\n",
    "result_by_sklearn[\"cluster\"] = kmedoids.labels_\n",
    "\n",
    "\n",
    "\n",
    "sns.set(rc = {'figure.figsize':(15,8)})\n",
    "plt.rcParams['font.family'] = 'Malgun Gothic'\n",
    "\n",
    "ax = sns.scatterplot(x=\"ratio\", y=\"tot\", hue=\"cluster\", data=result_by_sklearn, palette=\"Set3\", s = 70)\n",
    "for a,b,c in zip(result_by_sklearn.ratio, result_by_sklearn.tot, result_by_sklearn.index):\n",
    "    ax.text(a+0.01, b, c)"
   ]
  },
  {
   "cell_type": "code",
   "execution_count": null,
   "id": "6ac5dd6f-0a44-4192-8733-79cc3c08451c",
   "metadata": {},
   "outputs": [],
   "source": []
  }
 ],
 "metadata": {
  "kernelspec": {
   "display_name": "Python 3",
   "language": "python",
   "name": "python3"
  },
  "language_info": {
   "codemirror_mode": {
    "name": "ipython",
    "version": 3
   },
   "file_extension": ".py",
   "mimetype": "text/x-python",
   "name": "python",
   "nbconvert_exporter": "python",
   "pygments_lexer": "ipython3",
   "version": "3.8.8"
  },
  "toc-autonumbering": false,
  "toc-showmarkdowntxt": false
 },
 "nbformat": 4,
 "nbformat_minor": 5
}
