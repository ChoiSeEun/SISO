{
 "cells": [
  {
   "cell_type": "markdown",
   "id": "1b03dd02-1dcf-49fe-8c29-3821ef753966",
   "metadata": {},
   "source": [
    "# 1. 분석준비"
   ]
  },
  {
   "cell_type": "code",
   "execution_count": 123,
   "id": "e0434f72-9be3-4985-9dde-4505f39d2ce4",
   "metadata": {},
   "outputs": [],
   "source": [
    "import pandas as pd\n",
    "import numpy as np\n",
    "import math\n",
    "import scipy as sp\n",
    "import seaborn as sns\n",
    "import matplotlib.pyplot as plt\n",
    "from sklearn.cluster import KMeans \n"
   ]
  },
  {
   "cell_type": "code",
   "execution_count": 4,
   "id": "e0ff5b4c-8881-48c8-8a2a-8943f9e53e63",
   "metadata": {},
   "outputs": [
    {
     "data": {
      "text/html": [
       "<div>\n",
       "<style scoped>\n",
       "    .dataframe tbody tr th:only-of-type {\n",
       "        vertical-align: middle;\n",
       "    }\n",
       "\n",
       "    .dataframe tbody tr th {\n",
       "        vertical-align: top;\n",
       "    }\n",
       "\n",
       "    .dataframe thead th {\n",
       "        text-align: right;\n",
       "    }\n",
       "</style>\n",
       "<table border=\"1\" class=\"dataframe\">\n",
       "  <thead>\n",
       "    <tr style=\"text-align: right;\">\n",
       "      <th></th>\n",
       "      <th>CTY_NM</th>\n",
       "      <th>ratio</th>\n",
       "      <th>tot</th>\n",
       "    </tr>\n",
       "  </thead>\n",
       "  <tbody>\n",
       "    <tr>\n",
       "      <th>0</th>\n",
       "      <td>강남구</td>\n",
       "      <td>117.501236</td>\n",
       "      <td>304</td>\n",
       "    </tr>\n",
       "    <tr>\n",
       "      <th>1</th>\n",
       "      <td>강동구</td>\n",
       "      <td>130.707905</td>\n",
       "      <td>201</td>\n",
       "    </tr>\n",
       "    <tr>\n",
       "      <th>2</th>\n",
       "      <td>강북구</td>\n",
       "      <td>255.741946</td>\n",
       "      <td>162</td>\n",
       "    </tr>\n",
       "    <tr>\n",
       "      <th>3</th>\n",
       "      <td>강서구</td>\n",
       "      <td>151.529412</td>\n",
       "      <td>325</td>\n",
       "    </tr>\n",
       "    <tr>\n",
       "      <th>4</th>\n",
       "      <td>관악구</td>\n",
       "      <td>232.544572</td>\n",
       "      <td>250</td>\n",
       "    </tr>\n",
       "    <tr>\n",
       "      <th>5</th>\n",
       "      <td>광진구</td>\n",
       "      <td>164.941084</td>\n",
       "      <td>158</td>\n",
       "    </tr>\n",
       "    <tr>\n",
       "      <th>6</th>\n",
       "      <td>구로구</td>\n",
       "      <td>180.530203</td>\n",
       "      <td>283</td>\n",
       "    </tr>\n",
       "    <tr>\n",
       "      <th>7</th>\n",
       "      <td>금천구</td>\n",
       "      <td>211.962286</td>\n",
       "      <td>167</td>\n",
       "    </tr>\n",
       "    <tr>\n",
       "      <th>8</th>\n",
       "      <td>노원구</td>\n",
       "      <td>155.835207</td>\n",
       "      <td>375</td>\n",
       "    </tr>\n",
       "    <tr>\n",
       "      <th>9</th>\n",
       "      <td>도봉구</td>\n",
       "      <td>214.057018</td>\n",
       "      <td>218</td>\n",
       "    </tr>\n",
       "    <tr>\n",
       "      <th>10</th>\n",
       "      <td>동대문구</td>\n",
       "      <td>196.919653</td>\n",
       "      <td>200</td>\n",
       "    </tr>\n",
       "    <tr>\n",
       "      <th>11</th>\n",
       "      <td>동작구</td>\n",
       "      <td>177.251917</td>\n",
       "      <td>254</td>\n",
       "    </tr>\n",
       "    <tr>\n",
       "      <th>12</th>\n",
       "      <td>마포구</td>\n",
       "      <td>140.931947</td>\n",
       "      <td>274</td>\n",
       "    </tr>\n",
       "    <tr>\n",
       "      <th>13</th>\n",
       "      <td>서대문구</td>\n",
       "      <td>175.863324</td>\n",
       "      <td>165</td>\n",
       "    </tr>\n",
       "    <tr>\n",
       "      <th>14</th>\n",
       "      <td>서초구</td>\n",
       "      <td>108.378422</td>\n",
       "      <td>264</td>\n",
       "    </tr>\n",
       "    <tr>\n",
       "      <th>15</th>\n",
       "      <td>성동구</td>\n",
       "      <td>157.095413</td>\n",
       "      <td>286</td>\n",
       "    </tr>\n",
       "    <tr>\n",
       "      <th>16</th>\n",
       "      <td>성북구</td>\n",
       "      <td>160.204750</td>\n",
       "      <td>283</td>\n",
       "    </tr>\n",
       "    <tr>\n",
       "      <th>17</th>\n",
       "      <td>송파구</td>\n",
       "      <td>122.487458</td>\n",
       "      <td>301</td>\n",
       "    </tr>\n",
       "    <tr>\n",
       "      <th>18</th>\n",
       "      <td>양천구</td>\n",
       "      <td>120.534893</td>\n",
       "      <td>266</td>\n",
       "    </tr>\n",
       "    <tr>\n",
       "      <th>19</th>\n",
       "      <td>영등포구</td>\n",
       "      <td>162.996595</td>\n",
       "      <td>297</td>\n",
       "    </tr>\n",
       "    <tr>\n",
       "      <th>20</th>\n",
       "      <td>용산구</td>\n",
       "      <td>189.524891</td>\n",
       "      <td>168</td>\n",
       "    </tr>\n",
       "    <tr>\n",
       "      <th>21</th>\n",
       "      <td>은평구</td>\n",
       "      <td>184.450518</td>\n",
       "      <td>249</td>\n",
       "    </tr>\n",
       "    <tr>\n",
       "      <th>22</th>\n",
       "      <td>종로구</td>\n",
       "      <td>223.176595</td>\n",
       "      <td>216</td>\n",
       "    </tr>\n",
       "    <tr>\n",
       "      <th>23</th>\n",
       "      <td>중구</td>\n",
       "      <td>245.438487</td>\n",
       "      <td>136</td>\n",
       "    </tr>\n",
       "    <tr>\n",
       "      <th>24</th>\n",
       "      <td>중랑구</td>\n",
       "      <td>204.636419</td>\n",
       "      <td>202</td>\n",
       "    </tr>\n",
       "  </tbody>\n",
       "</table>\n",
       "</div>"
      ],
      "text/plain": [
       "   CTY_NM       ratio  tot\n",
       "0     강남구  117.501236  304\n",
       "1     강동구  130.707905  201\n",
       "2     강북구  255.741946  162\n",
       "3     강서구  151.529412  325\n",
       "4     관악구  232.544572  250\n",
       "5     광진구  164.941084  158\n",
       "6     구로구  180.530203  283\n",
       "7     금천구  211.962286  167\n",
       "8     노원구  155.835207  375\n",
       "9     도봉구  214.057018  218\n",
       "10   동대문구  196.919653  200\n",
       "11    동작구  177.251917  254\n",
       "12    마포구  140.931947  274\n",
       "13   서대문구  175.863324  165\n",
       "14    서초구  108.378422  264\n",
       "15    성동구  157.095413  286\n",
       "16    성북구  160.204750  283\n",
       "17    송파구  122.487458  301\n",
       "18    양천구  120.534893  266\n",
       "19   영등포구  162.996595  297\n",
       "20    용산구  189.524891  168\n",
       "21    은평구  184.450518  249\n",
       "22    종로구  223.176595  216\n",
       "23     중구  245.438487  136\n",
       "24    중랑구  204.636419  202"
      ]
     },
     "execution_count": 4,
     "metadata": {},
     "output_type": "execute_result"
    }
   ],
   "source": [
    "data = pd.read_csv('clustering_data.csv')\n",
    "data.drop(['Unnamed: 0'],axis = 1,inplace = True)\n",
    "data"
   ]
  },
  {
   "cell_type": "code",
   "execution_count": 5,
   "id": "61a03407-4229-47ce-872a-50a3b301d3a3",
   "metadata": {},
   "outputs": [
    {
     "data": {
      "image/png": "[encoded data removed]",
      "text/plain": [
       "<Figure size 432x288 with 1 Axes>"
      ]
     },
     "metadata": {
      "needs_background": "light"
     },
     "output_type": "display_data"
    }
   ],
   "source": [
    "sns.scatterplot(x=\"ratio\", y=\"tot\", data=data, palette=\"Set2\");"
   ]
  },
  {
   "cell_type": "code",
   "execution_count": 6,
   "id": "c59f6270-44e2-4e57-87b0-63359016e6d8",
   "metadata": {},
   "outputs": [],
   "source": [
    "data2 = data.set_index(data['CTY_NM']).drop(['CTY_NM'],axis = 1)"
   ]
  },
  {
   "cell_type": "markdown",
   "id": "f8c7ac28-606f-4f5b-a837-9e71ca63798a",
   "metadata": {},
   "source": [
    "# 2. 최적의 군집수 찾기"
   ]
  },
  {
   "cell_type": "code",
   "execution_count": 82,
   "id": "d9e09c25-378f-4ea5-8ad8-132c8f178028",
   "metadata": {},
   "outputs": [
    {
     "data": {
      "image/png": "[encoded data removed]",
      "text/plain": [
       "<Figure size 432x288 with 1 Axes>"
      ]
     },
     "metadata": {
      "needs_background": "light"
     },
     "output_type": "display_data"
    }
   ],
   "source": [
    "# k=4로 k-means clustering 실행\n",
    "kmeans = KMeans(n_clusters=4)\n",
    "kmeans.fit(data2)\n",
    "\n",
    "# 결과 확인\n",
    "result_by_sklearn = data2.copy()\n",
    "result_by_sklearn[\"cluster\"] = kmeans.labels_\n",
    "\n",
    "result_by_sklearn.sort_values(by = 'cluster')\n",
    "sns.scatterplot(x=\"ratio\", y=\"tot\", hue=\"cluster\", data=result_by_sklearn, palette=\"Set2\");"
   ]
  },
  {
   "cell_type": "markdown",
   "id": "875f795e-7825-40a8-be31-ac787ebd207b",
   "metadata": {},
   "source": [
    "## 1) elbow method로 최적의 군집 수 찾기"
   ]
  },
  {
   "cell_type": "code",
   "execution_count": 9,
   "id": "b63f8a38-140b-471c-9049-7c42f131845d",
   "metadata": {},
   "outputs": [
    {
     "name": "stderr",
     "output_type": "stream",
     "text": [
      "C:\\ProgramData\\Anaconda3\\lib\\site-packages\\sklearn\\cluster\\_kmeans.py:881: UserWarning: KMeans is known to have a memory leak on Windows with MKL, when there are less chunks than available threads. You can avoid it by setting the environment variable OMP_NUM_THREADS=1.\n",
      "  warnings.warn(\n"
     ]
    },
    {
     "data": {
      "image/png": "[encoded data removed]",
      "text/plain": [
       "<Figure size 1152x576 with 1 Axes>"
      ]
     },
     "metadata": {
      "needs_background": "light"
     },
     "output_type": "display_data"
    }
   ],
   "source": [
    "distortions = []\n",
    "\n",
    "K = range(1,10)\n",
    "\n",
    "for k in K:\n",
    "    kmeanModel = KMeans(n_clusters=k)\n",
    "    kmeanModel.fit(data2)\n",
    "    distortions.append(kmeanModel.inertia_)\n",
    "    \n",
    "plt.figure(figsize=(16,8))\n",
    "plt.plot(K, distortions, 'bx-')\n",
    "plt.xlabel('k')\n",
    "plt.ylabel('Distortion')\n",
    "plt.title('The Elbow Method showing the optimal k')\n",
    "plt.show()"
   ]
  },
  {
   "cell_type": "code",
   "execution_count": 10,
   "id": "13b50395-28ba-4de2-b209-deffe3f2ba3c",
   "metadata": {},
   "outputs": [
    {
     "data": {
      "image/png": "[encoded data removed]",
      "text/plain": [
       "<Figure size 432x288 with 1 Axes>"
      ]
     },
     "metadata": {
      "needs_background": "light"
     },
     "output_type": "display_data"
    }
   ],
   "source": [
    "# k-means clustering 실행\n",
    "kmeans = KMeans(n_clusters=2)\n",
    "kmeans.fit(data2)\n",
    "\n",
    "# 결과 확인\n",
    "result_by_sklearn = data2.copy()\n",
    "result_by_sklearn[\"cluster\"] = kmeans.labels_\n",
    "\n",
    "result_by_sklearn.sort_values(by = 'cluster')\n",
    "\n",
    "sns.scatterplot(x=\"ratio\", y=\"tot\", hue=\"cluster\", data=result_by_sklearn, palette=\"Set2\");"
   ]
  },
  {
   "cell_type": "markdown",
   "id": "8afb1d96-1f39-4c8b-9f88-c44993f38510",
   "metadata": {
    "tags": []
   },
   "source": [
    "- 더 많은 군집을 원하기 때문에 다른 방법 갈구"
   ]
  },
  {
   "cell_type": "markdown",
   "id": "f0990478-3bc1-48b6-bbc6-9b7652b8a0f8",
   "metadata": {},
   "source": [
    "# 3. 스케일링\n",
    "- 스케일링을 통해서 다른결과가 도출되는지 확인"
   ]
  },
  {
   "cell_type": "markdown",
   "id": "247dd269-4b3a-4a60-9762-e4adab058b26",
   "metadata": {},
   "source": [
    "## 1) StandardScaler "
   ]
  },
  {
   "cell_type": "code",
   "execution_count": 39,
   "id": "11fb8deb-4592-4fd6-93b7-38968a8b359a",
   "metadata": {},
   "outputs": [],
   "source": [
    "from sklearn.preprocessing import StandardScaler\n",
    "\n",
    "# Standardization 평균 0 / 분산 1\n",
    "scaler = StandardScaler()   \n",
    "scaler.fit(data2)\n",
    "scaled_data = scaler.transform(data2)"
   ]
  },
  {
   "cell_type": "code",
   "execution_count": 40,
   "id": "4e1633f3-d70c-4f00-ad18-73c53223a55b",
   "metadata": {},
   "outputs": [
    {
     "data": {
      "text/plain": [
       "array([[-1.44789193,  1.06104873],\n",
       "       [-1.117684  , -0.65085633],\n",
       "       [ 2.00855716, -1.2990534 ],\n",
       "       [-0.59708137,  1.41007792],\n",
       "       [ 1.42855044,  0.16354511],\n",
       "       [-0.26174771, -1.36553515],\n",
       "       [ 0.1280289 ,  0.71201954],\n",
       "       [ 0.91392906, -1.21595121],\n",
       "       [-0.48942305,  2.24109979],\n",
       "       [ 0.9663039 , -0.3683089 ],\n",
       "       [ 0.53781629, -0.66747677],\n",
       "       [ 0.04606151,  0.23002686],\n",
       "       [-0.86205106,  0.56243561],\n",
       "       [ 0.01134235, -1.24919208],\n",
       "       [-1.67599076,  0.39623123],\n",
       "       [-0.45791398,  0.76188086],\n",
       "       [-0.38017085,  0.71201954],\n",
       "       [-1.32322083,  1.01118742],\n",
       "       [-1.37204107,  0.42947211],\n",
       "       [-0.31036602,  0.94470567],\n",
       "       [ 0.35292418, -1.19933077],\n",
       "       [ 0.226049  ,  0.14692467],\n",
       "       [ 1.19432178, -0.40154977],\n",
       "       [ 1.75093854, -1.73118477],\n",
       "       [ 0.73075953, -0.6342359 ]])"
      ]
     },
     "execution_count": 40,
     "metadata": {},
     "output_type": "execute_result"
    }
   ],
   "source": [
    "scaled_data\n",
    "\n",
    "#dataframe으로 만들기\n",
    "scaled_data = pd.DataFrame(scaled_data, columns=data2.columns, index=list(data2.index.values))\n",
    "scaled_data"
   ]
  },
  {
   "cell_type": "code",
   "execution_count": 42,
   "id": "f4fca07b-cf9a-4081-8e51-1dab64cd5ded",
   "metadata": {},
   "outputs": [
    {
     "data": {
      "image/png": "[encoded data removed]",
      "text/plain": [
       "<Figure size 432x288 with 1 Axes>"
      ]
     },
     "metadata": {
      "needs_background": "light"
     },
     "output_type": "display_data"
    }
   ],
   "source": [
    "sns.scatterplot(x=\"ratio\", y=\"tot\", data=scaled_data, palette=\"Set2\");"
   ]
  },
  {
   "cell_type": "code",
   "execution_count": 43,
   "id": "86bdf0f1-5140-4568-93e2-be139dfd398b",
   "metadata": {},
   "outputs": [
    {
     "name": "stderr",
     "output_type": "stream",
     "text": [
      "C:\\ProgramData\\Anaconda3\\lib\\site-packages\\sklearn\\cluster\\_kmeans.py:881: UserWarning: KMeans is known to have a memory leak on Windows with MKL, when there are less chunks than available threads. You can avoid it by setting the environment variable OMP_NUM_THREADS=1.\n",
      "  warnings.warn(\n"
     ]
    },
    {
     "data": {
      "image/png": "[encoded data removed]",
      "text/plain": [
       "<Figure size 1152x576 with 1 Axes>"
      ]
     },
     "metadata": {
      "needs_background": "light"
     },
     "output_type": "display_data"
    }
   ],
   "source": [
    "distortions = []\n",
    "\n",
    "K = range(1,10)\n",
    "\n",
    "for k in K:\n",
    "    kmeanModel = KMeans(n_clusters=k)\n",
    "    kmeanModel.fit(scaled_data)\n",
    "    distortions.append(kmeanModel.inertia_)\n",
    "    \n",
    "plt.figure(figsize=(16,8))\n",
    "plt.plot(K, distortions, 'bx-')\n",
    "plt.xlabel('k')\n",
    "plt.ylabel('Distortion')\n",
    "plt.title('The Elbow Method showing the optimal k')\n",
    "plt.show()"
   ]
  },
  {
   "cell_type": "code",
   "execution_count": 44,
   "id": "94e48ce4-163c-4eb5-bbc8-c4ace19225c9",
   "metadata": {},
   "outputs": [
    {
     "data": {
      "image/png": "[encoded data removed]",
      "text/plain": [
       "<Figure size 432x288 with 1 Axes>"
      ]
     },
     "metadata": {
      "needs_background": "light"
     },
     "output_type": "display_data"
    }
   ],
   "source": [
    "# k-means clustering 실행\n",
    "kmeans = KMeans(n_clusters=2)\n",
    "kmeans.fit(scaled_data)\n",
    "\n",
    "# 결과 확인\n",
    "result_by_sklearn = scaled_data.copy()\n",
    "result_by_sklearn[\"cluster\"] = kmeans.labels_\n",
    "\n",
    "result_by_sklearn.sort_values(by = 'cluster')\n",
    "\n",
    "sns.scatterplot(x=\"ratio\", y=\"tot\", hue=\"cluster\", data=result_by_sklearn, palette=\"Set2\");"
   ]
  },
  {
   "cell_type": "markdown",
   "id": "7b5b5472-9348-44d4-aef0-e78475984713",
   "metadata": {},
   "source": [
    "## 2) MinMaxScaler"
   ]
  },
  {
   "cell_type": "code",
   "execution_count": 32,
   "id": "debd47cd-5718-4297-ba0c-a5311972c9a7",
   "metadata": {},
   "outputs": [],
   "source": [
    "from sklearn.preprocessing import MinMaxScaler"
   ]
  },
  {
   "cell_type": "code",
   "execution_count": 45,
   "id": "e64fcfc6-5ca5-4008-a070-dc23396699d9",
   "metadata": {},
   "outputs": [],
   "source": [
    "min_max_scaler = MinMaxScaler()\n",
    "min_max_scaler.fit(data2)\n",
    "scaled_data = min_max_scaler.transform(data2)"
   ]
  },
  {
   "cell_type": "code",
   "execution_count": 47,
   "id": "876f2fef-d85a-42be-95de-0048c12e8c94",
   "metadata": {},
   "outputs": [
    {
     "data": {
      "text/html": [
       "<div>\n",
       "<style scoped>\n",
       "    .dataframe tbody tr th:only-of-type {\n",
       "        vertical-align: middle;\n",
       "    }\n",
       "\n",
       "    .dataframe tbody tr th {\n",
       "        vertical-align: top;\n",
       "    }\n",
       "\n",
       "    .dataframe thead th {\n",
       "        text-align: right;\n",
       "    }\n",
       "</style>\n",
       "<table border=\"1\" class=\"dataframe\">\n",
       "  <thead>\n",
       "    <tr style=\"text-align: right;\">\n",
       "      <th></th>\n",
       "      <th>ratio</th>\n",
       "      <th>tot</th>\n",
       "    </tr>\n",
       "  </thead>\n",
       "  <tbody>\n",
       "    <tr>\n",
       "      <th>강남구</th>\n",
       "      <td>0.061907</td>\n",
       "      <td>0.702929</td>\n",
       "    </tr>\n",
       "    <tr>\n",
       "      <th>강동구</th>\n",
       "      <td>0.151527</td>\n",
       "      <td>0.271967</td>\n",
       "    </tr>\n",
       "    <tr>\n",
       "      <th>강북구</th>\n",
       "      <td>1.000000</td>\n",
       "      <td>0.108787</td>\n",
       "    </tr>\n",
       "    <tr>\n",
       "      <th>강서구</th>\n",
       "      <td>0.292820</td>\n",
       "      <td>0.790795</td>\n",
       "    </tr>\n",
       "    <tr>\n",
       "      <th>관악구</th>\n",
       "      <td>0.842584</td>\n",
       "      <td>0.476987</td>\n",
       "    </tr>\n",
       "    <tr>\n",
       "      <th>광진구</th>\n",
       "      <td>0.383831</td>\n",
       "      <td>0.092050</td>\n",
       "    </tr>\n",
       "    <tr>\n",
       "      <th>구로구</th>\n",
       "      <td>0.489618</td>\n",
       "      <td>0.615063</td>\n",
       "    </tr>\n",
       "    <tr>\n",
       "      <th>금천구</th>\n",
       "      <td>0.702914</td>\n",
       "      <td>0.129707</td>\n",
       "    </tr>\n",
       "    <tr>\n",
       "      <th>노원구</th>\n",
       "      <td>0.322039</td>\n",
       "      <td>1.000000</td>\n",
       "    </tr>\n",
       "    <tr>\n",
       "      <th>도봉구</th>\n",
       "      <td>0.717129</td>\n",
       "      <td>0.343096</td>\n",
       "    </tr>\n",
       "    <tr>\n",
       "      <th>동대문구</th>\n",
       "      <td>0.600835</td>\n",
       "      <td>0.267782</td>\n",
       "    </tr>\n",
       "    <tr>\n",
       "      <th>동작구</th>\n",
       "      <td>0.467371</td>\n",
       "      <td>0.493724</td>\n",
       "    </tr>\n",
       "    <tr>\n",
       "      <th>마포구</th>\n",
       "      <td>0.220906</td>\n",
       "      <td>0.577406</td>\n",
       "    </tr>\n",
       "    <tr>\n",
       "      <th>서대문구</th>\n",
       "      <td>0.457948</td>\n",
       "      <td>0.121339</td>\n",
       "    </tr>\n",
       "    <tr>\n",
       "      <th>서초구</th>\n",
       "      <td>0.000000</td>\n",
       "      <td>0.535565</td>\n",
       "    </tr>\n",
       "    <tr>\n",
       "      <th>성동구</th>\n",
       "      <td>0.330591</td>\n",
       "      <td>0.627615</td>\n",
       "    </tr>\n",
       "    <tr>\n",
       "      <th>성북구</th>\n",
       "      <td>0.351690</td>\n",
       "      <td>0.615063</td>\n",
       "    </tr>\n",
       "    <tr>\n",
       "      <th>송파구</th>\n",
       "      <td>0.095743</td>\n",
       "      <td>0.690377</td>\n",
       "    </tr>\n",
       "    <tr>\n",
       "      <th>양천구</th>\n",
       "      <td>0.082493</td>\n",
       "      <td>0.543933</td>\n",
       "    </tr>\n",
       "    <tr>\n",
       "      <th>영등포구</th>\n",
       "      <td>0.370636</td>\n",
       "      <td>0.673640</td>\n",
       "    </tr>\n",
       "    <tr>\n",
       "      <th>용산구</th>\n",
       "      <td>0.550655</td>\n",
       "      <td>0.133891</td>\n",
       "    </tr>\n",
       "    <tr>\n",
       "      <th>은평구</th>\n",
       "      <td>0.516221</td>\n",
       "      <td>0.472803</td>\n",
       "    </tr>\n",
       "    <tr>\n",
       "      <th>종로구</th>\n",
       "      <td>0.779013</td>\n",
       "      <td>0.334728</td>\n",
       "    </tr>\n",
       "    <tr>\n",
       "      <th>중구</th>\n",
       "      <td>0.930081</td>\n",
       "      <td>0.000000</td>\n",
       "    </tr>\n",
       "    <tr>\n",
       "      <th>중랑구</th>\n",
       "      <td>0.653201</td>\n",
       "      <td>0.276151</td>\n",
       "    </tr>\n",
       "  </tbody>\n",
       "</table>\n",
       "</div>"
      ],
      "text/plain": [
       "         ratio       tot\n",
       "강남구   0.061907  0.702929\n",
       "강동구   0.151527  0.271967\n",
       "강북구   1.000000  0.108787\n",
       "강서구   0.292820  0.790795\n",
       "관악구   0.842584  0.476987\n",
       "광진구   0.383831  0.092050\n",
       "구로구   0.489618  0.615063\n",
       "금천구   0.702914  0.129707\n",
       "노원구   0.322039  1.000000\n",
       "도봉구   0.717129  0.343096\n",
       "동대문구  0.600835  0.267782\n",
       "동작구   0.467371  0.493724\n",
       "마포구   0.220906  0.577406\n",
       "서대문구  0.457948  0.121339\n",
       "서초구   0.000000  0.535565\n",
       "성동구   0.330591  0.627615\n",
       "성북구   0.351690  0.615063\n",
       "송파구   0.095743  0.690377\n",
       "양천구   0.082493  0.543933\n",
       "영등포구  0.370636  0.673640\n",
       "용산구   0.550655  0.133891\n",
       "은평구   0.516221  0.472803\n",
       "종로구   0.779013  0.334728\n",
       "중구    0.930081  0.000000\n",
       "중랑구   0.653201  0.276151"
      ]
     },
     "execution_count": 47,
     "metadata": {},
     "output_type": "execute_result"
    }
   ],
   "source": [
    "scaled_data\n",
    "#dataframe으로 만들기\n",
    "scaled_data = pd.DataFrame(scaled_data, columns=data2.columns, index=list(data2.index.values))\n",
    "scaled_data\n",
    "\n",
    "sns.scatterplot(x=\"ratio\", y=\"tot\", data=scaled_data, palette=\"Set2\");"
   ]
  },
  {
   "cell_type": "code",
   "execution_count": 49,
   "id": "00f19add-7bdd-4ab7-99f0-f0417228c358",
   "metadata": {},
   "outputs": [
    {
     "name": "stderr",
     "output_type": "stream",
     "text": [
      "C:\\ProgramData\\Anaconda3\\lib\\site-packages\\sklearn\\cluster\\_kmeans.py:881: UserWarning: KMeans is known to have a memory leak on Windows with MKL, when there are less chunks than available threads. You can avoid it by setting the environment variable OMP_NUM_THREADS=1.\n",
      "  warnings.warn(\n"
     ]
    },
    {
     "data": {
      "image/png": "[encoded data removed]",
      "text/plain": [
       "<Figure size 1152x576 with 1 Axes>"
      ]
     },
     "metadata": {
      "needs_background": "light"
     },
     "output_type": "display_data"
    }
   ],
   "source": [
    "distortions = []\n",
    "\n",
    "K = range(1,10)\n",
    "\n",
    "for k in K:\n",
    "    kmeanModel = KMeans(n_clusters=k)\n",
    "    kmeanModel.fit(scaled_data)\n",
    "    distortions.append(kmeanModel.inertia_)\n",
    "    \n",
    "plt.figure(figsize=(16,8))\n",
    "plt.plot(K, distortions, 'bx-')\n",
    "plt.xlabel('k')\n",
    "plt.ylabel('Distortion')\n",
    "plt.title('The Elbow Method showing the optimal k')\n",
    "plt.show()"
   ]
  },
  {
   "cell_type": "code",
   "execution_count": 52,
   "id": "de12768e-b94a-4647-8460-75a16d9aa42b",
   "metadata": {},
   "outputs": [
    {
     "data": {
      "image/png": "[encoded data removed]",
      "text/plain": [
       "<Figure size 432x288 with 1 Axes>"
      ]
     },
     "metadata": {
      "needs_background": "light"
     },
     "output_type": "display_data"
    }
   ],
   "source": [
    "# k-means clustering 실행\n",
    "kmeans = KMeans(n_clusters=2)\n",
    "kmeans.fit(scaled_data)\n",
    "\n",
    "# 결과 확인\n",
    "result_by_sklearn = scaled_data.copy()\n",
    "result_by_sklearn[\"cluster\"] = kmeans.labels_\n",
    "\n",
    "result_by_sklearn.sort_values(by = 'cluster')\n",
    "\n",
    "sns.scatterplot(x=\"ratio\", y=\"tot\", hue=\"cluster\", data=result_by_sklearn, palette=\"Set2\");"
   ]
  },
  {
   "cell_type": "markdown",
   "id": "39c37c0b-c76b-4cec-93c1-0cd461073eea",
   "metadata": {},
   "source": [
    "***<<<스케일링을 통해서 다른 결과가 도출되는 것 같지 않음>>>***"
   ]
  },
  {
   "cell_type": "markdown",
   "id": "ca4a9abf-ac7e-484c-ba7e-b0f2b3951a8e",
   "metadata": {},
   "source": [
    "# 4. 실루엣 분석으로 최적의 군집 수 찾기"
   ]
  },
  {
   "cell_type": "markdown",
   "id": "8c839062-8da0-4fbe-a531-b42371cda228",
   "metadata": {},
   "source": [
    "## 1) 실루엣 분석 하는법"
   ]
  },
  {
   "cell_type": "markdown",
   "id": "e0ba16a5-47e1-4f19-89c8-c6abfca5411b",
   "metadata": {},
   "source": [
    "sklearn을 이용해서 실루엣 분석"
   ]
  },
  {
   "cell_type": "code",
   "execution_count": 54,
   "id": "764f93ed-f396-4f51-94b6-9689d8f17fe3",
   "metadata": {
    "tags": []
   },
   "outputs": [],
   "source": [
    "from sklearn.metrics import silhouette_samples, silhouette_score"
   ]
  },
  {
   "cell_type": "code",
   "execution_count": 56,
   "id": "5e2d9de5-faa8-4e29-bdfa-90c21dbd6dd5",
   "metadata": {
    "tags": []
   },
   "outputs": [
    {
     "data": {
      "text/html": [
       "<div>\n",
       "<style scoped>\n",
       "    .dataframe tbody tr th:only-of-type {\n",
       "        vertical-align: middle;\n",
       "    }\n",
       "\n",
       "    .dataframe tbody tr th {\n",
       "        vertical-align: top;\n",
       "    }\n",
       "\n",
       "    .dataframe thead th {\n",
       "        text-align: right;\n",
       "    }\n",
       "</style>\n",
       "<table border=\"1\" class=\"dataframe\">\n",
       "  <thead>\n",
       "    <tr style=\"text-align: right;\">\n",
       "      <th></th>\n",
       "      <th>ratio</th>\n",
       "      <th>tot</th>\n",
       "      <th>cluster</th>\n",
       "    </tr>\n",
       "    <tr>\n",
       "      <th>CTY_NM</th>\n",
       "      <th></th>\n",
       "      <th></th>\n",
       "      <th></th>\n",
       "    </tr>\n",
       "  </thead>\n",
       "  <tbody>\n",
       "    <tr>\n",
       "      <th>종로구</th>\n",
       "      <td>223.176595</td>\n",
       "      <td>216</td>\n",
       "      <td>0</td>\n",
       "    </tr>\n",
       "    <tr>\n",
       "      <th>은평구</th>\n",
       "      <td>184.450518</td>\n",
       "      <td>249</td>\n",
       "      <td>0</td>\n",
       "    </tr>\n",
       "    <tr>\n",
       "      <th>관악구</th>\n",
       "      <td>232.544572</td>\n",
       "      <td>250</td>\n",
       "      <td>0</td>\n",
       "    </tr>\n",
       "    <tr>\n",
       "      <th>도봉구</th>\n",
       "      <td>214.057018</td>\n",
       "      <td>218</td>\n",
       "      <td>0</td>\n",
       "    </tr>\n",
       "    <tr>\n",
       "      <th>동작구</th>\n",
       "      <td>177.251917</td>\n",
       "      <td>254</td>\n",
       "      <td>0</td>\n",
       "    </tr>\n",
       "    <tr>\n",
       "      <th>강남구</th>\n",
       "      <td>117.501236</td>\n",
       "      <td>304</td>\n",
       "      <td>1</td>\n",
       "    </tr>\n",
       "    <tr>\n",
       "      <th>영등포구</th>\n",
       "      <td>162.996595</td>\n",
       "      <td>297</td>\n",
       "      <td>1</td>\n",
       "    </tr>\n",
       "    <tr>\n",
       "      <th>양천구</th>\n",
       "      <td>120.534893</td>\n",
       "      <td>266</td>\n",
       "      <td>1</td>\n",
       "    </tr>\n",
       "    <tr>\n",
       "      <th>송파구</th>\n",
       "      <td>122.487458</td>\n",
       "      <td>301</td>\n",
       "      <td>1</td>\n",
       "    </tr>\n",
       "    <tr>\n",
       "      <th>성북구</th>\n",
       "      <td>160.204750</td>\n",
       "      <td>283</td>\n",
       "      <td>1</td>\n",
       "    </tr>\n",
       "    <tr>\n",
       "      <th>성동구</th>\n",
       "      <td>157.095413</td>\n",
       "      <td>286</td>\n",
       "      <td>1</td>\n",
       "    </tr>\n",
       "    <tr>\n",
       "      <th>서초구</th>\n",
       "      <td>108.378422</td>\n",
       "      <td>264</td>\n",
       "      <td>1</td>\n",
       "    </tr>\n",
       "    <tr>\n",
       "      <th>마포구</th>\n",
       "      <td>140.931947</td>\n",
       "      <td>274</td>\n",
       "      <td>1</td>\n",
       "    </tr>\n",
       "    <tr>\n",
       "      <th>노원구</th>\n",
       "      <td>155.835207</td>\n",
       "      <td>375</td>\n",
       "      <td>1</td>\n",
       "    </tr>\n",
       "    <tr>\n",
       "      <th>구로구</th>\n",
       "      <td>180.530203</td>\n",
       "      <td>283</td>\n",
       "      <td>1</td>\n",
       "    </tr>\n",
       "    <tr>\n",
       "      <th>강서구</th>\n",
       "      <td>151.529412</td>\n",
       "      <td>325</td>\n",
       "      <td>1</td>\n",
       "    </tr>\n",
       "    <tr>\n",
       "      <th>서대문구</th>\n",
       "      <td>175.863324</td>\n",
       "      <td>165</td>\n",
       "      <td>2</td>\n",
       "    </tr>\n",
       "    <tr>\n",
       "      <th>동대문구</th>\n",
       "      <td>196.919653</td>\n",
       "      <td>200</td>\n",
       "      <td>2</td>\n",
       "    </tr>\n",
       "    <tr>\n",
       "      <th>금천구</th>\n",
       "      <td>211.962286</td>\n",
       "      <td>167</td>\n",
       "      <td>2</td>\n",
       "    </tr>\n",
       "    <tr>\n",
       "      <th>광진구</th>\n",
       "      <td>164.941084</td>\n",
       "      <td>158</td>\n",
       "      <td>2</td>\n",
       "    </tr>\n",
       "    <tr>\n",
       "      <th>용산구</th>\n",
       "      <td>189.524891</td>\n",
       "      <td>168</td>\n",
       "      <td>2</td>\n",
       "    </tr>\n",
       "    <tr>\n",
       "      <th>강동구</th>\n",
       "      <td>130.707905</td>\n",
       "      <td>201</td>\n",
       "      <td>2</td>\n",
       "    </tr>\n",
       "    <tr>\n",
       "      <th>중랑구</th>\n",
       "      <td>204.636419</td>\n",
       "      <td>202</td>\n",
       "      <td>2</td>\n",
       "    </tr>\n",
       "    <tr>\n",
       "      <th>강북구</th>\n",
       "      <td>255.741946</td>\n",
       "      <td>162</td>\n",
       "      <td>3</td>\n",
       "    </tr>\n",
       "    <tr>\n",
       "      <th>중구</th>\n",
       "      <td>245.438487</td>\n",
       "      <td>136</td>\n",
       "      <td>3</td>\n",
       "    </tr>\n",
       "  </tbody>\n",
       "</table>\n",
       "</div>"
      ],
      "text/plain": [
       "             ratio  tot  cluster\n",
       "CTY_NM                          \n",
       "종로구     223.176595  216        0\n",
       "은평구     184.450518  249        0\n",
       "관악구     232.544572  250        0\n",
       "도봉구     214.057018  218        0\n",
       "동작구     177.251917  254        0\n",
       "강남구     117.501236  304        1\n",
       "영등포구    162.996595  297        1\n",
       "양천구     120.534893  266        1\n",
       "송파구     122.487458  301        1\n",
       "성북구     160.204750  283        1\n",
       "성동구     157.095413  286        1\n",
       "서초구     108.378422  264        1\n",
       "마포구     140.931947  274        1\n",
       "노원구     155.835207  375        1\n",
       "구로구     180.530203  283        1\n",
       "강서구     151.529412  325        1\n",
       "서대문구    175.863324  165        2\n",
       "동대문구    196.919653  200        2\n",
       "금천구     211.962286  167        2\n",
       "광진구     164.941084  158        2\n",
       "용산구     189.524891  168        2\n",
       "강동구     130.707905  201        2\n",
       "중랑구     204.636419  202        2\n",
       "강북구     255.741946  162        3\n",
       "중구      245.438487  136        3"
      ]
     },
     "execution_count": 56,
     "metadata": {},
     "output_type": "execute_result"
    }
   ],
   "source": [
    "kmeans = KMeans(n_clusters=4)\n",
    "kmeans.fit(data2)\n",
    "\n",
    "# 결과 확인\n",
    "result_by_sklearn = data2.copy()\n",
    "result_by_sklearn[\"cluster\"] = kmeans.labels_\n",
    "result_by_sklearn.sort_values(by = 'cluster')"
   ]
  },
  {
   "cell_type": "code",
   "execution_count": 63,
   "id": "2ba07b1a-f236-4bb4-9e4b-6a586aa9a609",
   "metadata": {
    "tags": []
   },
   "outputs": [
    {
     "name": "stdout",
     "output_type": "stream",
     "text": [
      "(25,)\n",
      "[ 0.59956602  0.21646911  0.64228471  0.53654111  0.50736515  0.51359264\n",
      "  0.06785442  0.00919161  0.38817173  0.34902793  0.12256404  0.27340844\n",
      "  0.47929869  0.55234089  0.44358105  0.48169022  0.42203807  0.61016837\n",
      "  0.46513236  0.47878675  0.48953009  0.44627259  0.33527853  0.6495628\n",
      " -0.04716285]\n"
     ]
    }
   ],
   "source": [
    "score_samples = silhouette_samples(data2.to_numpy(), result_by_sklearn['cluster'])\n",
    "print(score_samples.shape)\n",
    "print(score_samples)"
   ]
  },
  {
   "cell_type": "code",
   "execution_count": 70,
   "id": "f83aee25-aa24-41a6-9943-55a3c3fa5100",
   "metadata": {},
   "outputs": [
    {
     "name": "stdout",
     "output_type": "stream",
     "text": [
      "데이터셋 Silhouette Analysis Score: 0.40130217935257323\n"
     ]
    }
   ],
   "source": [
    "# result_by_sklearn에 실루엣 계수 열 추가\n",
    "result_by_sklearn['silhouette_coeff'] = score_samples\n",
    "\n",
    "# 모든 데이터의 평균 실루엣 계수값을 구함.  \n",
    "average_score = silhouette_score(data2.to_numpy(), result_by_sklearn['cluster'])\n",
    "print('데이터셋 Silhouette Analysis Score:', average_score)"
   ]
  },
  {
   "cell_type": "code",
   "execution_count": 69,
   "id": "440e89a6-ac80-44b9-83ae-d893e23ec266",
   "metadata": {},
   "outputs": [
    {
     "data": {
      "text/plain": [
       "cluster\n",
       "0    0.382271\n",
       "1    0.452075\n",
       "2    0.265218\n",
       "3    0.645924\n",
       "Name: silhouette_coeff, dtype: float64"
      ]
     },
     "execution_count": 69,
     "metadata": {},
     "output_type": "execute_result"
    }
   ],
   "source": [
    "result_by_sklearn.groupby('cluster')['silhouette_coeff'].mean()"
   ]
  },
  {
   "cell_type": "markdown",
   "id": "44a16431-0a92-4214-ae02-addefadd21a9",
   "metadata": {},
   "source": [
    "## 2) 시각화를 통해 군집의 개수 정하기"
   ]
  },
  {
   "cell_type": "markdown",
   "id": "57c0ae37-3cf0-47f8-94b5-a212c70a30fb",
   "metadata": {},
   "source": [
    "### a. 시각화 함수"
   ]
  },
  {
   "cell_type": "code",
   "execution_count": 78,
   "id": "8f9f4f39-b9b0-4c3f-8bf9-69ea10db9f22",
   "metadata": {},
   "outputs": [],
   "source": [
    "### 여러개의 클러스터링 갯수를 List로 입력 받아 각각의 실루엣 계수를 면적으로 시각화한 함수 작성\n",
    "\n",
    "def visualize_silhouette(cluster_lists, X_features): \n",
    "\n",
    "    from sklearn.datasets import make_blobs\n",
    "    from sklearn.cluster import KMeans\n",
    "    from sklearn.metrics import silhouette_samples, silhouette_score\n",
    "\n",
    "    import matplotlib.pyplot as plt\n",
    "    import matplotlib.cm as cm\n",
    "    import math\n",
    "\n",
    "    # 입력값으로 클러스터링 갯수들을 리스트로 받아서, 각 갯수별로 클러스터링을 적용하고 실루엣 개수를 구함\n",
    "    n_cols = len(cluster_lists)\n",
    "\n",
    "    # plt.subplots()으로 리스트에 기재된 클러스터링 수만큼의 sub figures를 가지는 axs 생성 \n",
    "    fig, axs = plt.subplots(figsize=(4*n_cols, 4), nrows=1, ncols=n_cols)\n",
    "\n",
    "    # 리스트에 기재된 클러스터링 갯수들을 차례로 iteration 수행하면서 실루엣 개수 시각화\n",
    "    for ind, n_cluster in enumerate(cluster_lists):\n",
    "\n",
    "        # KMeans 클러스터링 수행하고, 실루엣 스코어와 개별 데이터의 실루엣 값 계산. \n",
    "        clusterer = KMeans(n_clusters = n_cluster, max_iter=500, random_state=0)\n",
    "        cluster_labels = clusterer.fit_predict(X_features)\n",
    "\n",
    "        sil_avg = silhouette_score(X_features, cluster_labels)\n",
    "        sil_values = silhouette_samples(X_features, cluster_labels)\n",
    "\n",
    "        y_lower = 10\n",
    "        axs[ind].set_title('Number of Cluster : '+ str(n_cluster)+'\\n' \\\n",
    "                          'Silhouette Score :' + str(round(sil_avg,3)) )\n",
    "        axs[ind].set_xlabel(\"The silhouette coefficient values\")\n",
    "        axs[ind].set_ylabel(\"Cluster label\")\n",
    "        axs[ind].set_xlim([-0.1, 1])\n",
    "        axs[ind].set_ylim([0, len(X_features) + (n_cluster + 1) * 10])\n",
    "        axs[ind].set_yticks([])  # Clear the yaxis labels / ticks\n",
    "        axs[ind].set_xticks([0, 0.2, 0.4, 0.6, 0.8, 1])\n",
    "\n",
    "        # 클러스터링 갯수별로 fill_betweenx( )형태의 막대 그래프 표현. \n",
    "        for i in range(n_cluster):\n",
    "            ith_cluster_sil_values = sil_values[cluster_labels==i]\n",
    "            ith_cluster_sil_values.sort()\n",
    "\n",
    "            size_cluster_i = ith_cluster_sil_values.shape[0]\n",
    "            y_upper = y_lower + size_cluster_i\n",
    "\n",
    "            color = cm.nipy_spectral(float(i) / n_cluster)\n",
    "            axs[ind].fill_betweenx(np.arange(y_lower, y_upper), 0, ith_cluster_sil_values, \\\n",
    "                                facecolor=color, edgecolor=color, alpha=0.7)\n",
    "            axs[ind].text(-0.05, y_lower + 0.5 * size_cluster_i, str(i))\n",
    "            y_lower = y_upper + 10\n",
    "\n",
    "        axs[ind].axvline(x=sil_avg, color=\"red\", linestyle=\"--\")"
   ]
  },
  {
   "cell_type": "markdown",
   "id": "1dc4b3b5-48e2-4ee4-8797-33292d8ad268",
   "metadata": {},
   "source": [
    "### b. 결과"
   ]
  },
  {
   "cell_type": "code",
   "execution_count": 79,
   "id": "eedda511-b722-4790-a140-cd28c2bfefa9",
   "metadata": {},
   "outputs": [
    {
     "data": {
      "image/png": "[encoded data removed]",
      "text/plain": [
       "<Figure size 2016x288 with 7 Axes>"
      ]
     },
     "metadata": {
      "needs_background": "light"
     },
     "output_type": "display_data"
    }
   ],
   "source": [
    "visualize_silhouette([2,3,4,5,6,7,8 ], data2.to_numpy())"
   ]
  },
  {
   "cell_type": "markdown",
   "id": "2fafdce4-fee9-43f1-bf04-4263e1d21278",
   "metadata": {},
   "source": [
    "\n",
    "- 결과적으로 2개의 군집으로 나누는 것이 elbow method나 sulhouette Score에서 가장 적절한 양상을 보이고 있다\n",
    "- 다만 우선순위를 정하는 분석의 목적과 군집의 갯수가 적절하지 않다고 판단.\n",
    "- 4, 6 군집으로 진행하는 것이 적절하다고 판단된다.\n",
    "\n",
    "\n",
    "<span style=\"color:red\"> **6 군집은 각 군집다마 2~6개 구가 할당, 향후 분석은 6군집으로 진행한다.**</span>\n",
    "\n",
    "<span style=\"color:red\"> **스케일링으로 큰 차이가 없기 때문에 기존 원본파일로 진행한다.**</span>"
   ]
  },
  {
   "cell_type": "markdown",
   "id": "d4da46cb-0a57-4034-8469-4b5da4d8fe1b",
   "metadata": {},
   "source": [
    "# 5. k-means 클러스터링"
   ]
  },
  {
   "cell_type": "code",
   "execution_count": 127,
   "id": "6ecce457-f4c7-4b99-8586-e319021117f6",
   "metadata": {},
   "outputs": [
    {
     "data": {
      "image/png": "[encoded data removed]",
      "text/plain": [
       "<Figure size 1080x576 with 1 Axes>"
      ]
     },
     "metadata": {},
     "output_type": "display_data"
    }
   ],
   "source": [
    "# k=4로 k-means clustering 실행\n",
    "kmeans = KMeans(n_clusters=6)\n",
    "kmeans.fit(data2)\n",
    "\n",
    "# 결과 확인\n",
    "result_by_sklearn = data2.copy()\n",
    "result_by_sklearn[\"cluster\"] = kmeans.labels_\n",
    "\n",
    "result_by_sklearn.sort_values(by = 'cluster')\n",
    "\n",
    "sns.set(rc = {'figure.figsize':(15,8)})\n",
    "plt.rcParams['font.family'] = 'Malgun Gothic'\n",
    "\n",
    "ax = sns.scatterplot(x=\"ratio\", y=\"tot\", hue=\"cluster\", data=result_by_sklearn, palette=\"Set2\")\n",
    "for a,b,c in zip(result_by_sklearn.ratio, result_by_sklearn.tot, result_by_sklearn.index):\n",
    "    ax.text(a+3, b, c)"
   ]
  },
  {
   "cell_type": "code",
   "execution_count": 129,
   "id": "391d6e5b-6290-41cf-8821-4a419cf67933",
   "metadata": {},
   "outputs": [
    {
     "data": {
      "text/html": [
       "<div>\n",
       "<style scoped>\n",
       "    .dataframe tbody tr th:only-of-type {\n",
       "        vertical-align: middle;\n",
       "    }\n",
       "\n",
       "    .dataframe tbody tr th {\n",
       "        vertical-align: top;\n",
       "    }\n",
       "\n",
       "    .dataframe thead th {\n",
       "        text-align: right;\n",
       "    }\n",
       "</style>\n",
       "<table border=\"1\" class=\"dataframe\">\n",
       "  <thead>\n",
       "    <tr style=\"text-align: right;\">\n",
       "      <th></th>\n",
       "      <th>ratio</th>\n",
       "      <th>tot</th>\n",
       "      <th>cluster</th>\n",
       "    </tr>\n",
       "    <tr>\n",
       "      <th>CTY_NM</th>\n",
       "      <th></th>\n",
       "      <th></th>\n",
       "      <th></th>\n",
       "    </tr>\n",
       "  </thead>\n",
       "  <tbody>\n",
       "    <tr>\n",
       "      <th>중랑구</th>\n",
       "      <td>204.636419</td>\n",
       "      <td>202</td>\n",
       "      <td>0</td>\n",
       "    </tr>\n",
       "    <tr>\n",
       "      <th>종로구</th>\n",
       "      <td>223.176595</td>\n",
       "      <td>216</td>\n",
       "      <td>0</td>\n",
       "    </tr>\n",
       "    <tr>\n",
       "      <th>관악구</th>\n",
       "      <td>232.544572</td>\n",
       "      <td>250</td>\n",
       "      <td>0</td>\n",
       "    </tr>\n",
       "    <tr>\n",
       "      <th>동대문구</th>\n",
       "      <td>196.919653</td>\n",
       "      <td>200</td>\n",
       "      <td>0</td>\n",
       "    </tr>\n",
       "    <tr>\n",
       "      <th>도봉구</th>\n",
       "      <td>214.057018</td>\n",
       "      <td>218</td>\n",
       "      <td>0</td>\n",
       "    </tr>\n",
       "    <tr>\n",
       "      <th>강서구</th>\n",
       "      <td>151.529412</td>\n",
       "      <td>325</td>\n",
       "      <td>1</td>\n",
       "    </tr>\n",
       "    <tr>\n",
       "      <th>노원구</th>\n",
       "      <td>155.835207</td>\n",
       "      <td>375</td>\n",
       "      <td>1</td>\n",
       "    </tr>\n",
       "    <tr>\n",
       "      <th>양천구</th>\n",
       "      <td>120.534893</td>\n",
       "      <td>266</td>\n",
       "      <td>2</td>\n",
       "    </tr>\n",
       "    <tr>\n",
       "      <th>송파구</th>\n",
       "      <td>122.487458</td>\n",
       "      <td>301</td>\n",
       "      <td>2</td>\n",
       "    </tr>\n",
       "    <tr>\n",
       "      <th>서초구</th>\n",
       "      <td>108.378422</td>\n",
       "      <td>264</td>\n",
       "      <td>2</td>\n",
       "    </tr>\n",
       "    <tr>\n",
       "      <th>강남구</th>\n",
       "      <td>117.501236</td>\n",
       "      <td>304</td>\n",
       "      <td>2</td>\n",
       "    </tr>\n",
       "    <tr>\n",
       "      <th>마포구</th>\n",
       "      <td>140.931947</td>\n",
       "      <td>274</td>\n",
       "      <td>2</td>\n",
       "    </tr>\n",
       "    <tr>\n",
       "      <th>서대문구</th>\n",
       "      <td>175.863324</td>\n",
       "      <td>165</td>\n",
       "      <td>3</td>\n",
       "    </tr>\n",
       "    <tr>\n",
       "      <th>광진구</th>\n",
       "      <td>164.941084</td>\n",
       "      <td>158</td>\n",
       "      <td>3</td>\n",
       "    </tr>\n",
       "    <tr>\n",
       "      <th>용산구</th>\n",
       "      <td>189.524891</td>\n",
       "      <td>168</td>\n",
       "      <td>3</td>\n",
       "    </tr>\n",
       "    <tr>\n",
       "      <th>강동구</th>\n",
       "      <td>130.707905</td>\n",
       "      <td>201</td>\n",
       "      <td>3</td>\n",
       "    </tr>\n",
       "    <tr>\n",
       "      <th>중구</th>\n",
       "      <td>245.438487</td>\n",
       "      <td>136</td>\n",
       "      <td>4</td>\n",
       "    </tr>\n",
       "    <tr>\n",
       "      <th>강북구</th>\n",
       "      <td>255.741946</td>\n",
       "      <td>162</td>\n",
       "      <td>4</td>\n",
       "    </tr>\n",
       "    <tr>\n",
       "      <th>금천구</th>\n",
       "      <td>211.962286</td>\n",
       "      <td>167</td>\n",
       "      <td>4</td>\n",
       "    </tr>\n",
       "    <tr>\n",
       "      <th>동작구</th>\n",
       "      <td>177.251917</td>\n",
       "      <td>254</td>\n",
       "      <td>5</td>\n",
       "    </tr>\n",
       "    <tr>\n",
       "      <th>구로구</th>\n",
       "      <td>180.530203</td>\n",
       "      <td>283</td>\n",
       "      <td>5</td>\n",
       "    </tr>\n",
       "    <tr>\n",
       "      <th>성동구</th>\n",
       "      <td>157.095413</td>\n",
       "      <td>286</td>\n",
       "      <td>5</td>\n",
       "    </tr>\n",
       "    <tr>\n",
       "      <th>성북구</th>\n",
       "      <td>160.204750</td>\n",
       "      <td>283</td>\n",
       "      <td>5</td>\n",
       "    </tr>\n",
       "    <tr>\n",
       "      <th>영등포구</th>\n",
       "      <td>162.996595</td>\n",
       "      <td>297</td>\n",
       "      <td>5</td>\n",
       "    </tr>\n",
       "    <tr>\n",
       "      <th>은평구</th>\n",
       "      <td>184.450518</td>\n",
       "      <td>249</td>\n",
       "      <td>5</td>\n",
       "    </tr>\n",
       "  </tbody>\n",
       "</table>\n",
       "</div>"
      ],
      "text/plain": [
       "             ratio  tot  cluster\n",
       "CTY_NM                          \n",
       "중랑구     204.636419  202        0\n",
       "종로구     223.176595  216        0\n",
       "관악구     232.544572  250        0\n",
       "동대문구    196.919653  200        0\n",
       "도봉구     214.057018  218        0\n",
       "강서구     151.529412  325        1\n",
       "노원구     155.835207  375        1\n",
       "양천구     120.534893  266        2\n",
       "송파구     122.487458  301        2\n",
       "서초구     108.378422  264        2\n",
       "강남구     117.501236  304        2\n",
       "마포구     140.931947  274        2\n",
       "서대문구    175.863324  165        3\n",
       "광진구     164.941084  158        3\n",
       "용산구     189.524891  168        3\n",
       "강동구     130.707905  201        3\n",
       "중구      245.438487  136        4\n",
       "강북구     255.741946  162        4\n",
       "금천구     211.962286  167        4\n",
       "동작구     177.251917  254        5\n",
       "구로구     180.530203  283        5\n",
       "성동구     157.095413  286        5\n",
       "성북구     160.204750  283        5\n",
       "영등포구    162.996595  297        5\n",
       "은평구     184.450518  249        5"
      ]
     },
     "execution_count": 129,
     "metadata": {},
     "output_type": "execute_result"
    }
   ],
   "source": [
    "result_by_sklearn.sort_values(by = 'cluster')"
   ]
  }
 ],
 "metadata": {
  "kernelspec": {
   "display_name": "Python 3",
   "language": "python",
   "name": "python3"
  },
  "language_info": {
   "codemirror_mode": {
    "name": "ipython",
    "version": 3
   },
   "file_extension": ".py",
   "mimetype": "text/x-python",
   "name": "python",
   "nbconvert_exporter": "python",
   "pygments_lexer": "ipython3",
   "version": "3.8.8"
  },
  "toc-autonumbering": false,
  "toc-showmarkdowntxt": false
 },
 "nbformat": 4,
 "nbformat_minor": 5
}
