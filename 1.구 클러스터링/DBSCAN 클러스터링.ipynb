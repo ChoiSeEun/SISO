{
 "cells": [
  {
   "cell_type": "code",
   "execution_count": 1,
   "id": "f6826ef5-af33-4f08-8540-e2a3a0f1bccf",
   "metadata": {},
   "outputs": [],
   "source": [
    "import pandas as pd\n",
    "import matplotlib.pyplot as plt\n",
    "import seaborn as sns\n",
    "from sklearn.cluster import DBSCAN"
   ]
  },
  {
   "cell_type": "markdown",
   "id": "c0173f80-38b0-4343-9de3-b51d34bdc614",
   "metadata": {},
   "source": [
    "## 1. 데이터 확인 및 분리"
   ]
  },
  {
   "cell_type": "code",
   "execution_count": 2,
   "id": "5c6619ed-4e9a-4a6e-a6be-6d3e1a62c004",
   "metadata": {},
   "outputs": [
    {
     "data": {
      "text/html": [
       "<div>\n",
       "<style scoped>\n",
       "    .dataframe tbody tr th:only-of-type {\n",
       "        vertical-align: middle;\n",
       "    }\n",
       "\n",
       "    .dataframe tbody tr th {\n",
       "        vertical-align: top;\n",
       "    }\n",
       "\n",
       "    .dataframe thead th {\n",
       "        text-align: right;\n",
       "    }\n",
       "</style>\n",
       "<table border=\"1\" class=\"dataframe\">\n",
       "  <thead>\n",
       "    <tr style=\"text-align: right;\">\n",
       "      <th></th>\n",
       "      <th>CTY_NM</th>\n",
       "      <th>ratio</th>\n",
       "      <th>tot</th>\n",
       "    </tr>\n",
       "  </thead>\n",
       "  <tbody>\n",
       "    <tr>\n",
       "      <th>0</th>\n",
       "      <td>강남구</td>\n",
       "      <td>117.501236</td>\n",
       "      <td>304</td>\n",
       "    </tr>\n",
       "    <tr>\n",
       "      <th>1</th>\n",
       "      <td>강동구</td>\n",
       "      <td>130.707905</td>\n",
       "      <td>201</td>\n",
       "    </tr>\n",
       "    <tr>\n",
       "      <th>2</th>\n",
       "      <td>강북구</td>\n",
       "      <td>255.741946</td>\n",
       "      <td>162</td>\n",
       "    </tr>\n",
       "    <tr>\n",
       "      <th>3</th>\n",
       "      <td>강서구</td>\n",
       "      <td>151.529412</td>\n",
       "      <td>325</td>\n",
       "    </tr>\n",
       "    <tr>\n",
       "      <th>4</th>\n",
       "      <td>관악구</td>\n",
       "      <td>232.544572</td>\n",
       "      <td>250</td>\n",
       "    </tr>\n",
       "  </tbody>\n",
       "</table>\n",
       "</div>"
      ],
      "text/plain": [
       "  CTY_NM       ratio  tot\n",
       "0    강남구  117.501236  304\n",
       "1    강동구  130.707905  201\n",
       "2    강북구  255.741946  162\n",
       "3    강서구  151.529412  325\n",
       "4    관악구  232.544572  250"
      ]
     },
     "execution_count": 2,
     "metadata": {},
     "output_type": "execute_result"
    }
   ],
   "source": [
    "# 데이터 불러오기\n",
    "data = pd.read_csv('clustering_data.csv')\n",
    "data = data.drop('Unnamed: 0',axis=1)\n",
    "data.head()"
   ]
  },
  {
   "cell_type": "code",
   "execution_count": 3,
   "id": "e8765986-dd7d-42b7-8e7c-2dd9c8a76a29",
   "metadata": {},
   "outputs": [
    {
     "data": {
      "text/plain": [
       "<AxesSubplot:xlabel='ratio', ylabel='tot'>"
      ]
     },
     "execution_count": 3,
     "metadata": {},
     "output_type": "execute_result"
    },
    {
     "data": {
      "image/png": "[encoded data removed]",
      "text/plain": [
       "<Figure size 432x288 with 1 Axes>"
      ]
     },
     "metadata": {
      "needs_background": "light"
     },
     "output_type": "display_data"
    }
   ],
   "source": [
    "# 데이터 확인\n",
    "sns.scatterplot(x='ratio',y='tot',data=data)"
   ]
  },
  {
   "cell_type": "code",
   "execution_count": 4,
   "id": "40e2a5d5-59fe-4cf4-a5d4-e61d469ff292",
   "metadata": {},
   "outputs": [],
   "source": [
    "feature = data[['ratio','tot']]\n",
    "name = data['CTY_NM']"
   ]
  },
  {
   "cell_type": "markdown",
   "id": "ba9cd578-4e9e-4405-8721-9455d247ecc0",
   "metadata": {},
   "source": [
    "## 2. DBSCAN 적용"
   ]
  },
  {
   "cell_type": "markdown",
   "id": "a89336c9-8fff-4023-947c-56acb4f3d229",
   "metadata": {},
   "source": [
    "https://todayisbetterthanyesterday.tistory.com/62 <br>\n",
    "https://creatorjo.tistory.com/150?category=883823 <br>"
   ]
  },
  {
   "cell_type": "markdown",
   "id": "77f2eb52-cd77-4102-b607-7d7027e28417",
   "metadata": {},
   "source": [
    "### 1) 파라미터 임의 설정 후 군집 수 확인"
   ]
  },
  {
   "cell_type": "code",
   "execution_count": 5,
   "id": "a8295ef5-39d6-48ca-9edb-27c3ca3b6a44",
   "metadata": {},
   "outputs": [
    {
     "data": {
      "text/plain": [
       "2"
      ]
     },
     "execution_count": 5,
     "metadata": {},
     "output_type": "execute_result"
    }
   ],
   "source": [
    "model = DBSCAN(eps=5,min_samples=2)\n",
    "model.fit(feature)\n",
    "cluster = pd.DataFrame(model.labels_)\n",
    "len(cluster.iloc[:,0].unique())"
   ]
  },
  {
   "cell_type": "markdown",
   "id": "bf155afa-a402-4176-a551-9cc6aa71bf8e",
   "metadata": {},
   "source": [
    "### 2) eps에 따라 나눠지는 군집 수 확인"
   ]
  },
  {
   "cell_type": "code",
   "execution_count": 9,
   "id": "8491c5d0-57ed-444b-b5c4-59840884e859",
   "metadata": {},
   "outputs": [
    {
     "data": {
      "text/plain": [
       "<AxesSubplot:>"
      ]
     },
     "execution_count": 9,
     "metadata": {},
     "output_type": "execute_result"
    },
    {
     "data": {
      "image/png": "[encoded data removed]",
      "text/plain": [
       "<Figure size 432x288 with 1 Axes>"
      ]
     },
     "metadata": {
      "needs_background": "light"
     },
     "output_type": "display_data"
    }
   ],
   "source": [
    "# min_samples = 2 고정\n",
    "\n",
    "min_samples=2\n",
    "result = []\n",
    "\n",
    "# eps 적용 범위는 여러 값을 대입해 본 후 결정\n",
    "# 최소값 = 처음으로 군집이 2개 이상 나뉘는 값\n",
    "# 최대값 = 군집이 1개로 변하는 값 \n",
    "for i in range(5,61,1): \n",
    "    model = DBSCAN(eps=i,min_samples=min_samples)\n",
    "    model.fit(feature)\n",
    "    labels = pd.DataFrame(model.labels_)\n",
    "    result.append(len(labels.iloc[:,0].unique()))\n",
    "    \n",
    "plt.yticks(range(1,10,1))\n",
    "sns.lineplot(x=range(5,61,1),y=result)"
   ]
  },
  {
   "cell_type": "code",
   "execution_count": 10,
   "id": "f5bb8dfe-49a7-47fc-bd46-28305af15734",
   "metadata": {},
   "outputs": [
    {
     "data": {
      "text/plain": [
       "<AxesSubplot:>"
      ]
     },
     "execution_count": 10,
     "metadata": {},
     "output_type": "execute_result"
    },
    {
     "data": {
      "image/png": "[encoded data removed]",
      "text/plain": [
       "<Figure size 432x288 with 1 Axes>"
      ]
     },
     "metadata": {
      "needs_background": "light"
     },
     "output_type": "display_data"
    }
   ],
   "source": [
    "# min_samples =3 변경 \n",
    "\n",
    "min_samples=3\n",
    "result = []\n",
    "\n",
    "for i in range(5,61,1): # 여러 값을 대입해 본 후 결정함\n",
    "    model = DBSCAN(eps=i,min_samples=min_samples)\n",
    "    model.fit(feature)\n",
    "    labels = pd.DataFrame(model.labels_)\n",
    "    result.append(len(labels.iloc[:,0].unique()))\n",
    "\n",
    "plt.yticks(range(1,10,1))\n",
    "sns.lineplot(x=range(5,61,1),y=result)"
   ]
  },
  {
   "cell_type": "markdown",
   "id": "65e417ad-12be-4a2f-a52e-cbfa44ad5bb1",
   "metadata": {},
   "source": [
    "- 파라미터에 따라 성능이 크게 달라져, 임의로 정할 수 없다고 판단 <br>\n",
    "- 일반적인 방법론을 활용한 후 수정하기로 결정"
   ]
  },
  {
   "cell_type": "markdown",
   "id": "e0bbd287-bb2d-473e-80f2-49395683cdd3",
   "metadata": {},
   "source": [
    "## 3. Heuristic방법론을 사용한 파라미터 설정"
   ]
  },
  {
   "cell_type": "markdown",
   "id": "baedbd64-abff-48fd-bab8-e9c0f8c47d90",
   "metadata": {},
   "source": [
    "https://rfriend.tistory.com/588 <br>\n",
    "https://medium.com/@tarammullin/dbscan-parameter-estimation-ff8330e3a3bd"
   ]
  },
  {
   "cell_type": "markdown",
   "id": "b0771975-e889-495a-a9b0-5826216a1979",
   "metadata": {},
   "source": [
    "### 1) min-samples"
   ]
  },
  {
   "cell_type": "code",
   "execution_count": 11,
   "id": "21bf1337-ab23-4081-ba27-971a75a687c2",
   "metadata": {},
   "outputs": [
    {
     "data": {
      "text/plain": [
       "3.2188758248682006"
      ]
     },
     "execution_count": 11,
     "metadata": {},
     "output_type": "execute_result"
    }
   ],
   "source": [
    "# ln(n) \n",
    "import numpy as np\n",
    "np.log(len(data))"
   ]
  },
  {
   "cell_type": "markdown",
   "id": "4d5d7f2d-9ddf-4657-8347-ad733d894457",
   "metadata": {},
   "source": [
    "### 2) eps"
   ]
  },
  {
   "cell_type": "code",
   "execution_count": 21,
   "id": "a91d1a0d-7d2f-4b0f-b7a4-b29b112244bf",
   "metadata": {},
   "outputs": [],
   "source": [
    "# 데이터의 각 점과 선택된 MinPts 값의 평균 거리 계산 \n",
    "from sklearn.neighbors import NearestNeighbors\n",
    "\n",
    "neighbors = NearestNeighbors(n_neighbors=3) \n",
    "neighbors_fit = neighbors.fit(feature)\n",
    "distances,indices = neighbors_fit.kneighbors(feature)"
   ]
  },
  {
   "cell_type": "code",
   "execution_count": 22,
   "id": "00b084f0-f6eb-486f-accb-09b809ebff60",
   "metadata": {},
   "outputs": [
    {
     "data": {
      "text/plain": [
       "[<matplotlib.lines.Line2D at 0x22913c04c70>]"
      ]
     },
     "execution_count": 22,
     "metadata": {},
     "output_type": "execute_result"
    },
    {
     "data": {
      "image/png": "[encoded data removed]",
      "text/plain": [
       "<Figure size 432x288 with 1 Axes>"
      ]
     },
     "metadata": {
      "needs_background": "light"
     },
     "output_type": "display_data"
    }
   ],
   "source": [
    "# 오름 차순 정렬 \n",
    "distances = np.sort(distances,axis=0)\n",
    "distances = distances[:,1]\n",
    "\n",
    "plt.xticks(range(0,25,1))\n",
    "plt.plot(distances)"
   ]
  },
  {
   "cell_type": "markdown",
   "id": "6ffb4b49-5989-45ac-8338-a35c1833c34b",
   "metadata": {},
   "source": [
    "- 일정한 증가 추세가 아니므로 눈에 띄는 점을 적용해보고 판단하기로 결정<br>\n",
    "- 앞에서 군집 분류가 되지 않았던 5이하의 값은 제외<br>\n",
    "- eps = 9,15,16,19,21,23 선택  "
   ]
  },
  {
   "cell_type": "code",
   "execution_count": 23,
   "id": "08b22f1b-b730-4241-8b23-578f2a01cf78",
   "metadata": {},
   "outputs": [
    {
     "name": "stdout",
     "output_type": "stream",
     "text": [
      "eps = 9일때, 군집의 수는 1개\n",
      "\n",
      "eps = 15일때, 군집의 수는 3개\n",
      "\n",
      "eps = 16일때, 군집의 수는 3개\n",
      "\n",
      "eps = 19일때, 군집의 수는 4개\n",
      "\n",
      "eps = 21일때, 군집의 수는 4개\n",
      "\n",
      "eps = 23일때, 군집의 수는 4개\n",
      "\n"
     ]
    }
   ],
   "source": [
    "# 위에서 선택한 eps에 따라 나눠지는 군집 수 확인\n",
    "min_samples = 3\n",
    "eps_list = [9,15,16,19,21,23]\n",
    "\n",
    "\n",
    "for e in eps_list:\n",
    "    model = DBSCAN(eps=e,min_samples=min_samples)\n",
    "    model.fit(feature)\n",
    "    labels = pd.DataFrame(model.labels_)\n",
    "    print(\"eps = {}일때, 군집의 수는 {}개\\n\".format(e,len(labels.iloc[:,0].unique())))"
   ]
  },
  {
   "cell_type": "markdown",
   "id": "c984f65a-f07f-4f9a-b2e1-2fe60ea822e2",
   "metadata": {},
   "source": [
    "- 군집 수가 1개로 나타나는 eps=9는 제외<br>\n",
    "- 군집이 같은 수로 나타나는 경우, 동일한 결과인지 확인 필요<br>\n",
    "- 군집이 3개인 경우와 4개인 경우 어느 것이 적절한지 결정 필요"
   ]
  },
  {
   "cell_type": "code",
   "execution_count": 25,
   "id": "692be51c-8743-4307-a536-7482a4f5413f",
   "metadata": {},
   "outputs": [
    {
     "data": {
      "text/html": [
       "<div>\n",
       "<style scoped>\n",
       "    .dataframe tbody tr th:only-of-type {\n",
       "        vertical-align: middle;\n",
       "    }\n",
       "\n",
       "    .dataframe tbody tr th {\n",
       "        vertical-align: top;\n",
       "    }\n",
       "\n",
       "    .dataframe thead th {\n",
       "        text-align: right;\n",
       "    }\n",
       "</style>\n",
       "<table border=\"1\" class=\"dataframe\">\n",
       "  <thead>\n",
       "    <tr style=\"text-align: right;\">\n",
       "      <th></th>\n",
       "      <th>CTY_NM</th>\n",
       "      <th>ratio</th>\n",
       "      <th>tot</th>\n",
       "      <th>eps=15</th>\n",
       "      <th>eps=16</th>\n",
       "      <th>Test</th>\n",
       "    </tr>\n",
       "  </thead>\n",
       "  <tbody>\n",
       "    <tr>\n",
       "      <th>0</th>\n",
       "      <td>강남구</td>\n",
       "      <td>117.501236</td>\n",
       "      <td>304</td>\n",
       "      <td>-1</td>\n",
       "      <td>-1</td>\n",
       "      <td>True</td>\n",
       "    </tr>\n",
       "    <tr>\n",
       "      <th>1</th>\n",
       "      <td>강동구</td>\n",
       "      <td>130.707905</td>\n",
       "      <td>201</td>\n",
       "      <td>-1</td>\n",
       "      <td>-1</td>\n",
       "      <td>True</td>\n",
       "    </tr>\n",
       "    <tr>\n",
       "      <th>2</th>\n",
       "      <td>강북구</td>\n",
       "      <td>255.741946</td>\n",
       "      <td>162</td>\n",
       "      <td>-1</td>\n",
       "      <td>-1</td>\n",
       "      <td>True</td>\n",
       "    </tr>\n",
       "    <tr>\n",
       "      <th>3</th>\n",
       "      <td>강서구</td>\n",
       "      <td>151.529412</td>\n",
       "      <td>325</td>\n",
       "      <td>-1</td>\n",
       "      <td>-1</td>\n",
       "      <td>True</td>\n",
       "    </tr>\n",
       "    <tr>\n",
       "      <th>4</th>\n",
       "      <td>관악구</td>\n",
       "      <td>232.544572</td>\n",
       "      <td>250</td>\n",
       "      <td>-1</td>\n",
       "      <td>-1</td>\n",
       "      <td>True</td>\n",
       "    </tr>\n",
       "    <tr>\n",
       "      <th>5</th>\n",
       "      <td>광진구</td>\n",
       "      <td>164.941084</td>\n",
       "      <td>158</td>\n",
       "      <td>0</td>\n",
       "      <td>0</td>\n",
       "      <td>True</td>\n",
       "    </tr>\n",
       "    <tr>\n",
       "      <th>6</th>\n",
       "      <td>구로구</td>\n",
       "      <td>180.530203</td>\n",
       "      <td>283</td>\n",
       "      <td>-1</td>\n",
       "      <td>-1</td>\n",
       "      <td>True</td>\n",
       "    </tr>\n",
       "    <tr>\n",
       "      <th>7</th>\n",
       "      <td>금천구</td>\n",
       "      <td>211.962286</td>\n",
       "      <td>167</td>\n",
       "      <td>-1</td>\n",
       "      <td>-1</td>\n",
       "      <td>True</td>\n",
       "    </tr>\n",
       "    <tr>\n",
       "      <th>8</th>\n",
       "      <td>노원구</td>\n",
       "      <td>155.835207</td>\n",
       "      <td>375</td>\n",
       "      <td>-1</td>\n",
       "      <td>-1</td>\n",
       "      <td>True</td>\n",
       "    </tr>\n",
       "    <tr>\n",
       "      <th>9</th>\n",
       "      <td>도봉구</td>\n",
       "      <td>214.057018</td>\n",
       "      <td>218</td>\n",
       "      <td>-1</td>\n",
       "      <td>-1</td>\n",
       "      <td>True</td>\n",
       "    </tr>\n",
       "    <tr>\n",
       "      <th>10</th>\n",
       "      <td>동대문구</td>\n",
       "      <td>196.919653</td>\n",
       "      <td>200</td>\n",
       "      <td>-1</td>\n",
       "      <td>-1</td>\n",
       "      <td>True</td>\n",
       "    </tr>\n",
       "    <tr>\n",
       "      <th>11</th>\n",
       "      <td>동작구</td>\n",
       "      <td>177.251917</td>\n",
       "      <td>254</td>\n",
       "      <td>-1</td>\n",
       "      <td>-1</td>\n",
       "      <td>True</td>\n",
       "    </tr>\n",
       "    <tr>\n",
       "      <th>12</th>\n",
       "      <td>마포구</td>\n",
       "      <td>140.931947</td>\n",
       "      <td>274</td>\n",
       "      <td>-1</td>\n",
       "      <td>-1</td>\n",
       "      <td>True</td>\n",
       "    </tr>\n",
       "    <tr>\n",
       "      <th>13</th>\n",
       "      <td>서대문구</td>\n",
       "      <td>175.863324</td>\n",
       "      <td>165</td>\n",
       "      <td>0</td>\n",
       "      <td>0</td>\n",
       "      <td>True</td>\n",
       "    </tr>\n",
       "    <tr>\n",
       "      <th>14</th>\n",
       "      <td>서초구</td>\n",
       "      <td>108.378422</td>\n",
       "      <td>264</td>\n",
       "      <td>-1</td>\n",
       "      <td>-1</td>\n",
       "      <td>True</td>\n",
       "    </tr>\n",
       "    <tr>\n",
       "      <th>15</th>\n",
       "      <td>성동구</td>\n",
       "      <td>157.095413</td>\n",
       "      <td>286</td>\n",
       "      <td>1</td>\n",
       "      <td>1</td>\n",
       "      <td>True</td>\n",
       "    </tr>\n",
       "    <tr>\n",
       "      <th>16</th>\n",
       "      <td>성북구</td>\n",
       "      <td>160.204750</td>\n",
       "      <td>283</td>\n",
       "      <td>1</td>\n",
       "      <td>1</td>\n",
       "      <td>True</td>\n",
       "    </tr>\n",
       "    <tr>\n",
       "      <th>17</th>\n",
       "      <td>송파구</td>\n",
       "      <td>122.487458</td>\n",
       "      <td>301</td>\n",
       "      <td>-1</td>\n",
       "      <td>-1</td>\n",
       "      <td>True</td>\n",
       "    </tr>\n",
       "    <tr>\n",
       "      <th>18</th>\n",
       "      <td>양천구</td>\n",
       "      <td>120.534893</td>\n",
       "      <td>266</td>\n",
       "      <td>-1</td>\n",
       "      <td>-1</td>\n",
       "      <td>True</td>\n",
       "    </tr>\n",
       "    <tr>\n",
       "      <th>19</th>\n",
       "      <td>영등포구</td>\n",
       "      <td>162.996595</td>\n",
       "      <td>297</td>\n",
       "      <td>1</td>\n",
       "      <td>1</td>\n",
       "      <td>True</td>\n",
       "    </tr>\n",
       "    <tr>\n",
       "      <th>20</th>\n",
       "      <td>용산구</td>\n",
       "      <td>189.524891</td>\n",
       "      <td>168</td>\n",
       "      <td>0</td>\n",
       "      <td>0</td>\n",
       "      <td>True</td>\n",
       "    </tr>\n",
       "    <tr>\n",
       "      <th>21</th>\n",
       "      <td>은평구</td>\n",
       "      <td>184.450518</td>\n",
       "      <td>249</td>\n",
       "      <td>-1</td>\n",
       "      <td>-1</td>\n",
       "      <td>True</td>\n",
       "    </tr>\n",
       "    <tr>\n",
       "      <th>22</th>\n",
       "      <td>종로구</td>\n",
       "      <td>223.176595</td>\n",
       "      <td>216</td>\n",
       "      <td>-1</td>\n",
       "      <td>-1</td>\n",
       "      <td>True</td>\n",
       "    </tr>\n",
       "    <tr>\n",
       "      <th>23</th>\n",
       "      <td>중구</td>\n",
       "      <td>245.438487</td>\n",
       "      <td>136</td>\n",
       "      <td>-1</td>\n",
       "      <td>-1</td>\n",
       "      <td>True</td>\n",
       "    </tr>\n",
       "    <tr>\n",
       "      <th>24</th>\n",
       "      <td>중랑구</td>\n",
       "      <td>204.636419</td>\n",
       "      <td>202</td>\n",
       "      <td>-1</td>\n",
       "      <td>-1</td>\n",
       "      <td>True</td>\n",
       "    </tr>\n",
       "  </tbody>\n",
       "</table>\n",
       "</div>"
      ],
      "text/plain": [
       "   CTY_NM       ratio  tot  eps=15  eps=16  Test\n",
       "0     강남구  117.501236  304      -1      -1  True\n",
       "1     강동구  130.707905  201      -1      -1  True\n",
       "2     강북구  255.741946  162      -1      -1  True\n",
       "3     강서구  151.529412  325      -1      -1  True\n",
       "4     관악구  232.544572  250      -1      -1  True\n",
       "5     광진구  164.941084  158       0       0  True\n",
       "6     구로구  180.530203  283      -1      -1  True\n",
       "7     금천구  211.962286  167      -1      -1  True\n",
       "8     노원구  155.835207  375      -1      -1  True\n",
       "9     도봉구  214.057018  218      -1      -1  True\n",
       "10   동대문구  196.919653  200      -1      -1  True\n",
       "11    동작구  177.251917  254      -1      -1  True\n",
       "12    마포구  140.931947  274      -1      -1  True\n",
       "13   서대문구  175.863324  165       0       0  True\n",
       "14    서초구  108.378422  264      -1      -1  True\n",
       "15    성동구  157.095413  286       1       1  True\n",
       "16    성북구  160.204750  283       1       1  True\n",
       "17    송파구  122.487458  301      -1      -1  True\n",
       "18    양천구  120.534893  266      -1      -1  True\n",
       "19   영등포구  162.996595  297       1       1  True\n",
       "20    용산구  189.524891  168       0       0  True\n",
       "21    은평구  184.450518  249      -1      -1  True\n",
       "22    종로구  223.176595  216      -1      -1  True\n",
       "23     중구  245.438487  136      -1      -1  True\n",
       "24    중랑구  204.636419  202      -1      -1  True"
      ]
     },
     "execution_count": 25,
     "metadata": {},
     "output_type": "execute_result"
    }
   ],
   "source": [
    "# 군집 3개\n",
    "min_samples = 3\n",
    "eps_list=[15,16]\n",
    "result_3 = data.copy()\n",
    "\n",
    "for e in eps_list:\n",
    "    model = DBSCAN(eps=e,min_samples=min_samples)\n",
    "    model.fit(feature)\n",
    "    predict = pd.DataFrame(model.fit_predict(feature))\n",
    "    predict.columns=[\"eps=\"+str(e)]\n",
    "    result_3 = pd.concat([result_3,predict],axis=1)\n",
    "    \n",
    "result_3['Test'] = result_3['eps=15']==result_3['eps=16']\n",
    "result_3"
   ]
  },
  {
   "cell_type": "code",
   "execution_count": 38,
   "id": "a5d8fb68-dd69-4dec-a8db-865494dd19ee",
   "metadata": {},
   "outputs": [
    {
     "data": {
      "text/html": [
       "<div>\n",
       "<style scoped>\n",
       "    .dataframe tbody tr th:only-of-type {\n",
       "        vertical-align: middle;\n",
       "    }\n",
       "\n",
       "    .dataframe tbody tr th {\n",
       "        vertical-align: top;\n",
       "    }\n",
       "\n",
       "    .dataframe thead th {\n",
       "        text-align: right;\n",
       "    }\n",
       "</style>\n",
       "<table border=\"1\" class=\"dataframe\">\n",
       "  <thead>\n",
       "    <tr style=\"text-align: right;\">\n",
       "      <th></th>\n",
       "      <th>CTY_NM</th>\n",
       "      <th>ratio</th>\n",
       "      <th>tot</th>\n",
       "      <th>eps=19</th>\n",
       "      <th>eps=21</th>\n",
       "      <th>eps=23</th>\n",
       "      <th>Test 19 and 21</th>\n",
       "      <th>Test 19 and 23</th>\n",
       "      <th>Test 21 and 23</th>\n",
       "    </tr>\n",
       "  </thead>\n",
       "  <tbody>\n",
       "    <tr>\n",
       "      <th>0</th>\n",
       "      <td>강남구</td>\n",
       "      <td>117.501236</td>\n",
       "      <td>304</td>\n",
       "      <td>-1</td>\n",
       "      <td>-1</td>\n",
       "      <td>-1</td>\n",
       "      <td>True</td>\n",
       "      <td>True</td>\n",
       "      <td>True</td>\n",
       "    </tr>\n",
       "    <tr>\n",
       "      <th>1</th>\n",
       "      <td>강동구</td>\n",
       "      <td>130.707905</td>\n",
       "      <td>201</td>\n",
       "      <td>-1</td>\n",
       "      <td>-1</td>\n",
       "      <td>-1</td>\n",
       "      <td>True</td>\n",
       "      <td>True</td>\n",
       "      <td>True</td>\n",
       "    </tr>\n",
       "    <tr>\n",
       "      <th>2</th>\n",
       "      <td>강북구</td>\n",
       "      <td>255.741946</td>\n",
       "      <td>162</td>\n",
       "      <td>-1</td>\n",
       "      <td>-1</td>\n",
       "      <td>-1</td>\n",
       "      <td>True</td>\n",
       "      <td>True</td>\n",
       "      <td>True</td>\n",
       "    </tr>\n",
       "    <tr>\n",
       "      <th>3</th>\n",
       "      <td>강서구</td>\n",
       "      <td>151.529412</td>\n",
       "      <td>325</td>\n",
       "      <td>-1</td>\n",
       "      <td>-1</td>\n",
       "      <td>-1</td>\n",
       "      <td>True</td>\n",
       "      <td>True</td>\n",
       "      <td>True</td>\n",
       "    </tr>\n",
       "    <tr>\n",
       "      <th>4</th>\n",
       "      <td>관악구</td>\n",
       "      <td>232.544572</td>\n",
       "      <td>250</td>\n",
       "      <td>-1</td>\n",
       "      <td>-1</td>\n",
       "      <td>-1</td>\n",
       "      <td>True</td>\n",
       "      <td>True</td>\n",
       "      <td>True</td>\n",
       "    </tr>\n",
       "    <tr>\n",
       "      <th>5</th>\n",
       "      <td>광진구</td>\n",
       "      <td>164.941084</td>\n",
       "      <td>158</td>\n",
       "      <td>1</td>\n",
       "      <td>1</td>\n",
       "      <td>2</td>\n",
       "      <td>True</td>\n",
       "      <td>False</td>\n",
       "      <td>False</td>\n",
       "    </tr>\n",
       "    <tr>\n",
       "      <th>6</th>\n",
       "      <td>구로구</td>\n",
       "      <td>180.530203</td>\n",
       "      <td>283</td>\n",
       "      <td>-1</td>\n",
       "      <td>2</td>\n",
       "      <td>0</td>\n",
       "      <td>False</td>\n",
       "      <td>False</td>\n",
       "      <td>False</td>\n",
       "    </tr>\n",
       "    <tr>\n",
       "      <th>7</th>\n",
       "      <td>금천구</td>\n",
       "      <td>211.962286</td>\n",
       "      <td>167</td>\n",
       "      <td>-1</td>\n",
       "      <td>-1</td>\n",
       "      <td>2</td>\n",
       "      <td>True</td>\n",
       "      <td>False</td>\n",
       "      <td>False</td>\n",
       "    </tr>\n",
       "    <tr>\n",
       "      <th>8</th>\n",
       "      <td>노원구</td>\n",
       "      <td>155.835207</td>\n",
       "      <td>375</td>\n",
       "      <td>-1</td>\n",
       "      <td>-1</td>\n",
       "      <td>-1</td>\n",
       "      <td>True</td>\n",
       "      <td>True</td>\n",
       "      <td>True</td>\n",
       "    </tr>\n",
       "    <tr>\n",
       "      <th>9</th>\n",
       "      <td>도봉구</td>\n",
       "      <td>214.057018</td>\n",
       "      <td>218</td>\n",
       "      <td>0</td>\n",
       "      <td>0</td>\n",
       "      <td>1</td>\n",
       "      <td>True</td>\n",
       "      <td>False</td>\n",
       "      <td>False</td>\n",
       "    </tr>\n",
       "    <tr>\n",
       "      <th>10</th>\n",
       "      <td>동대문구</td>\n",
       "      <td>196.919653</td>\n",
       "      <td>200</td>\n",
       "      <td>0</td>\n",
       "      <td>0</td>\n",
       "      <td>1</td>\n",
       "      <td>True</td>\n",
       "      <td>False</td>\n",
       "      <td>False</td>\n",
       "    </tr>\n",
       "    <tr>\n",
       "      <th>11</th>\n",
       "      <td>동작구</td>\n",
       "      <td>177.251917</td>\n",
       "      <td>254</td>\n",
       "      <td>-1</td>\n",
       "      <td>-1</td>\n",
       "      <td>-1</td>\n",
       "      <td>True</td>\n",
       "      <td>True</td>\n",
       "      <td>True</td>\n",
       "    </tr>\n",
       "    <tr>\n",
       "      <th>12</th>\n",
       "      <td>마포구</td>\n",
       "      <td>140.931947</td>\n",
       "      <td>274</td>\n",
       "      <td>-1</td>\n",
       "      <td>2</td>\n",
       "      <td>0</td>\n",
       "      <td>False</td>\n",
       "      <td>False</td>\n",
       "      <td>False</td>\n",
       "    </tr>\n",
       "    <tr>\n",
       "      <th>13</th>\n",
       "      <td>서대문구</td>\n",
       "      <td>175.863324</td>\n",
       "      <td>165</td>\n",
       "      <td>1</td>\n",
       "      <td>1</td>\n",
       "      <td>2</td>\n",
       "      <td>True</td>\n",
       "      <td>False</td>\n",
       "      <td>False</td>\n",
       "    </tr>\n",
       "    <tr>\n",
       "      <th>14</th>\n",
       "      <td>서초구</td>\n",
       "      <td>108.378422</td>\n",
       "      <td>264</td>\n",
       "      <td>-1</td>\n",
       "      <td>-1</td>\n",
       "      <td>0</td>\n",
       "      <td>True</td>\n",
       "      <td>False</td>\n",
       "      <td>False</td>\n",
       "    </tr>\n",
       "    <tr>\n",
       "      <th>15</th>\n",
       "      <td>성동구</td>\n",
       "      <td>157.095413</td>\n",
       "      <td>286</td>\n",
       "      <td>2</td>\n",
       "      <td>2</td>\n",
       "      <td>0</td>\n",
       "      <td>True</td>\n",
       "      <td>False</td>\n",
       "      <td>False</td>\n",
       "    </tr>\n",
       "    <tr>\n",
       "      <th>16</th>\n",
       "      <td>성북구</td>\n",
       "      <td>160.204750</td>\n",
       "      <td>283</td>\n",
       "      <td>2</td>\n",
       "      <td>2</td>\n",
       "      <td>0</td>\n",
       "      <td>True</td>\n",
       "      <td>False</td>\n",
       "      <td>False</td>\n",
       "    </tr>\n",
       "    <tr>\n",
       "      <th>17</th>\n",
       "      <td>송파구</td>\n",
       "      <td>122.487458</td>\n",
       "      <td>301</td>\n",
       "      <td>-1</td>\n",
       "      <td>-1</td>\n",
       "      <td>-1</td>\n",
       "      <td>True</td>\n",
       "      <td>True</td>\n",
       "      <td>True</td>\n",
       "    </tr>\n",
       "    <tr>\n",
       "      <th>18</th>\n",
       "      <td>양천구</td>\n",
       "      <td>120.534893</td>\n",
       "      <td>266</td>\n",
       "      <td>-1</td>\n",
       "      <td>-1</td>\n",
       "      <td>0</td>\n",
       "      <td>True</td>\n",
       "      <td>False</td>\n",
       "      <td>False</td>\n",
       "    </tr>\n",
       "    <tr>\n",
       "      <th>19</th>\n",
       "      <td>영등포구</td>\n",
       "      <td>162.996595</td>\n",
       "      <td>297</td>\n",
       "      <td>2</td>\n",
       "      <td>2</td>\n",
       "      <td>0</td>\n",
       "      <td>True</td>\n",
       "      <td>False</td>\n",
       "      <td>False</td>\n",
       "    </tr>\n",
       "    <tr>\n",
       "      <th>20</th>\n",
       "      <td>용산구</td>\n",
       "      <td>189.524891</td>\n",
       "      <td>168</td>\n",
       "      <td>1</td>\n",
       "      <td>1</td>\n",
       "      <td>2</td>\n",
       "      <td>True</td>\n",
       "      <td>False</td>\n",
       "      <td>False</td>\n",
       "    </tr>\n",
       "    <tr>\n",
       "      <th>21</th>\n",
       "      <td>은평구</td>\n",
       "      <td>184.450518</td>\n",
       "      <td>249</td>\n",
       "      <td>-1</td>\n",
       "      <td>-1</td>\n",
       "      <td>-1</td>\n",
       "      <td>True</td>\n",
       "      <td>True</td>\n",
       "      <td>True</td>\n",
       "    </tr>\n",
       "    <tr>\n",
       "      <th>22</th>\n",
       "      <td>종로구</td>\n",
       "      <td>223.176595</td>\n",
       "      <td>216</td>\n",
       "      <td>0</td>\n",
       "      <td>0</td>\n",
       "      <td>1</td>\n",
       "      <td>True</td>\n",
       "      <td>False</td>\n",
       "      <td>False</td>\n",
       "    </tr>\n",
       "    <tr>\n",
       "      <th>23</th>\n",
       "      <td>중구</td>\n",
       "      <td>245.438487</td>\n",
       "      <td>136</td>\n",
       "      <td>-1</td>\n",
       "      <td>-1</td>\n",
       "      <td>-1</td>\n",
       "      <td>True</td>\n",
       "      <td>True</td>\n",
       "      <td>True</td>\n",
       "    </tr>\n",
       "    <tr>\n",
       "      <th>24</th>\n",
       "      <td>중랑구</td>\n",
       "      <td>204.636419</td>\n",
       "      <td>202</td>\n",
       "      <td>0</td>\n",
       "      <td>0</td>\n",
       "      <td>1</td>\n",
       "      <td>True</td>\n",
       "      <td>False</td>\n",
       "      <td>False</td>\n",
       "    </tr>\n",
       "  </tbody>\n",
       "</table>\n",
       "</div>"
      ],
      "text/plain": [
       "   CTY_NM       ratio  tot  eps=19  eps=21  eps=23  Test 19 and 21  \\\n",
       "0     강남구  117.501236  304      -1      -1      -1            True   \n",
       "1     강동구  130.707905  201      -1      -1      -1            True   \n",
       "2     강북구  255.741946  162      -1      -1      -1            True   \n",
       "3     강서구  151.529412  325      -1      -1      -1            True   \n",
       "4     관악구  232.544572  250      -1      -1      -1            True   \n",
       "5     광진구  164.941084  158       1       1       2            True   \n",
       "6     구로구  180.530203  283      -1       2       0           False   \n",
       "7     금천구  211.962286  167      -1      -1       2            True   \n",
       "8     노원구  155.835207  375      -1      -1      -1            True   \n",
       "9     도봉구  214.057018  218       0       0       1            True   \n",
       "10   동대문구  196.919653  200       0       0       1            True   \n",
       "11    동작구  177.251917  254      -1      -1      -1            True   \n",
       "12    마포구  140.931947  274      -1       2       0           False   \n",
       "13   서대문구  175.863324  165       1       1       2            True   \n",
       "14    서초구  108.378422  264      -1      -1       0            True   \n",
       "15    성동구  157.095413  286       2       2       0            True   \n",
       "16    성북구  160.204750  283       2       2       0            True   \n",
       "17    송파구  122.487458  301      -1      -1      -1            True   \n",
       "18    양천구  120.534893  266      -1      -1       0            True   \n",
       "19   영등포구  162.996595  297       2       2       0            True   \n",
       "20    용산구  189.524891  168       1       1       2            True   \n",
       "21    은평구  184.450518  249      -1      -1      -1            True   \n",
       "22    종로구  223.176595  216       0       0       1            True   \n",
       "23     중구  245.438487  136      -1      -1      -1            True   \n",
       "24    중랑구  204.636419  202       0       0       1            True   \n",
       "\n",
       "    Test 19 and 23  Test 21 and 23  \n",
       "0             True            True  \n",
       "1             True            True  \n",
       "2             True            True  \n",
       "3             True            True  \n",
       "4             True            True  \n",
       "5            False           False  \n",
       "6            False           False  \n",
       "7            False           False  \n",
       "8             True            True  \n",
       "9            False           False  \n",
       "10           False           False  \n",
       "11            True            True  \n",
       "12           False           False  \n",
       "13           False           False  \n",
       "14           False           False  \n",
       "15           False           False  \n",
       "16           False           False  \n",
       "17            True            True  \n",
       "18           False           False  \n",
       "19           False           False  \n",
       "20           False           False  \n",
       "21            True            True  \n",
       "22           False           False  \n",
       "23            True            True  \n",
       "24           False           False  "
      ]
     },
     "execution_count": 38,
     "metadata": {},
     "output_type": "execute_result"
    }
   ],
   "source": [
    "# 군집 4개\n",
    "min_samples = 3\n",
    "eps_list=[19,21,23]\n",
    "result_4 = data.copy()\n",
    "\n",
    "for e in eps_list:\n",
    "    model = DBSCAN(eps=e,min_samples=min_samples)\n",
    "    model.fit(feature)\n",
    "    predict = pd.DataFrame(model.fit_predict(feature))\n",
    "    predict.columns=[\"eps=\"+str(e)]\n",
    "    result_4 = pd.concat([result_4,predict],axis=1)\n",
    "    \n",
    "result_4['Test 19 and 21'] = result_4['eps=19']==result_4['eps=21']\n",
    "result_4['Test 19 and 23'] = result_4['eps=19']==result_4['eps=23']\n",
    "result_4['Test 21 and 23'] = result_4['eps=21']==result_4['eps=23']\n",
    "result_4"
   ]
  },
  {
   "cell_type": "code",
   "execution_count": 30,
   "id": "49730c1c-67a6-4453-ab52-7b21a5e23617",
   "metadata": {},
   "outputs": [
    {
     "name": "stdout",
     "output_type": "stream",
     "text": [
      "True     23\n",
      "False     2\n",
      "Name: Test 19 and 21, dtype: int64\n",
      "False    15\n",
      "True     10\n",
      "Name: Test 19 and 23, dtype: int64\n",
      "False    15\n",
      "True     10\n",
      "Name: Test 21 and 23, dtype: int64\n"
     ]
    }
   ],
   "source": [
    "print(result_4['Test 19 and 21'].value_counts())\n",
    "print(result_4['Test 19 and 23'].value_counts())\n",
    "print(result_4['Test 21 and 23'].value_counts())"
   ]
  },
  {
   "cell_type": "markdown",
   "id": "90f9954c-4658-4eae-bbf6-eb2c9862ec3d",
   "metadata": {},
   "source": [
    "- 3개의 군집으로 클러스터링한 결과는 동일<br>\n",
    "- 3개의 군집 결과 확인 후 4개의 군집으로 클러스터링한 결과는 다른 지표로 비교해보기로 결정<br>"
   ]
  },
  {
   "cell_type": "markdown",
   "id": "1c8d6f64-16b6-45c6-85d6-26f3c99e1edd",
   "metadata": {},
   "source": [
    "## 4. 결과 확인 및 비교"
   ]
  },
  {
   "cell_type": "markdown",
   "id": "a0d04466-b38f-42c4-8a05-94578b5fdfcc",
   "metadata": {},
   "source": [
    "### 1) 군집 3개"
   ]
  },
  {
   "cell_type": "code",
   "execution_count": 31,
   "id": "111a8f63-d40a-4305-87ad-ea7179f1f80b",
   "metadata": {},
   "outputs": [
    {
     "data": {
      "text/plain": [
       "<AxesSubplot:xlabel='ratio', ylabel='tot'>"
      ]
     },
     "execution_count": 31,
     "metadata": {},
     "output_type": "execute_result"
    },
    {
     "data": {
      "image/png": "[encoded data removed]",
      "text/plain": [
       "<Figure size 432x288 with 1 Axes>"
      ]
     },
     "metadata": {
      "needs_background": "light"
     },
     "output_type": "display_data"
    }
   ],
   "source": [
    "sns.scatterplot(x='ratio',y='tot',hue='eps=15',data=result_3,palette='Set2')"
   ]
  },
  {
   "cell_type": "markdown",
   "id": "6fcdf318-a01a-4fad-a6c7-0c8e1f17a0c1",
   "metadata": {},
   "source": [
    "- 시각적으로 확인해봐도, 적절한 클러스터링 결과가 아니라고 판단됨 <br>\n",
    "- 4개의 군집으로 분류한 결과 중 하나를 선택하여 사용하기로 결정"
   ]
  },
  {
   "cell_type": "markdown",
   "id": "4d10769c-7768-4234-9df9-6bd9353db058",
   "metadata": {},
   "source": [
    "### 2) 군집 4개"
   ]
  },
  {
   "cell_type": "markdown",
   "id": "baa296f9-68d6-4a7d-b9fe-1f1f09c2b012",
   "metadata": {},
   "source": [
    "- 3개의 모델(eps=19,21,23)이 모두 차이를 보이므로, 3개의 모델에 대해서 실루엣 계수를 판단"
   ]
  },
  {
   "cell_type": "code",
   "execution_count": 37,
   "id": "dfb26ccd-80ce-4127-a4c8-7c7747310c52",
   "metadata": {},
   "outputs": [
    {
     "name": "stdout",
     "output_type": "stream",
     "text": [
      "eps=19일 때, Silhouette Coefficient : -0.022658739316918683\n",
      "eps=21일 때, Silhouette Coefficient : 0.06737140403391395\n",
      "eps=23일 때, Silhouette Coefficient : 0.147869248472764\n"
     ]
    }
   ],
   "source": [
    "from sklearn.metrics.cluster import silhouette_score\n",
    "\n",
    "min_samples = 3\n",
    "eps_list=[19,21,23]\n",
    "\n",
    "for e in eps_list:\n",
    "    model = DBSCAN(eps=e,min_samples=min_samples)\n",
    "    model.fit(feature)\n",
    "    labels = model.labels_\n",
    "    score = silhouette_score(feature,labels)\n",
    "    print(\"eps={}일 때, Silhouette Coefficient : {}\".format(e,score))"
   ]
  },
  {
   "cell_type": "markdown",
   "id": "e92bc9fc-d33b-4098-93f3-aa1fc66f0043",
   "metadata": {},
   "source": [
    "- 실루엣 계수가 그나마 높은 eps=23을 최종적으로 결정"
   ]
  },
  {
   "cell_type": "code",
   "execution_count": 39,
   "id": "c1650240-031c-48d7-9762-4f7a7ea10c88",
   "metadata": {},
   "outputs": [
    {
     "data": {
      "text/plain": [
       "<AxesSubplot:xlabel='ratio', ylabel='tot'>"
      ]
     },
     "execution_count": 39,
     "metadata": {},
     "output_type": "execute_result"
    },
    {
     "data": {
      "image/png": "[encoded data removed]",
      "text/plain": [
       "<Figure size 432x288 with 1 Axes>"
      ]
     },
     "metadata": {
      "needs_background": "light"
     },
     "output_type": "display_data"
    }
   ],
   "source": [
    "sns.scatterplot(x='ratio',y='tot',hue='eps=23',data=result_4,palette='Set2')"
   ]
  },
  {
   "cell_type": "markdown",
   "id": "558b6733-abb7-4994-9711-94e640e58b2a",
   "metadata": {},
   "source": [
    "## 5. 최종 군집"
   ]
  },
  {
   "cell_type": "code",
   "execution_count": 40,
   "id": "6f4a76ce-21f8-4e27-b081-81ab07c92f82",
   "metadata": {},
   "outputs": [],
   "source": [
    "data['cluster'] = result_4['eps=23']"
   ]
  },
  {
   "cell_type": "code",
   "execution_count": 41,
   "id": "32f61369-b853-4e2b-9bf0-81f4748895a6",
   "metadata": {},
   "outputs": [
    {
     "name": "stdout",
     "output_type": "stream",
     "text": [
      "10\n"
     ]
    },
    {
     "data": {
      "text/html": [
       "<div>\n",
       "<style scoped>\n",
       "    .dataframe tbody tr th:only-of-type {\n",
       "        vertical-align: middle;\n",
       "    }\n",
       "\n",
       "    .dataframe tbody tr th {\n",
       "        vertical-align: top;\n",
       "    }\n",
       "\n",
       "    .dataframe thead th {\n",
       "        text-align: right;\n",
       "    }\n",
       "</style>\n",
       "<table border=\"1\" class=\"dataframe\">\n",
       "  <thead>\n",
       "    <tr style=\"text-align: right;\">\n",
       "      <th></th>\n",
       "      <th>CTY_NM</th>\n",
       "      <th>ratio</th>\n",
       "      <th>tot</th>\n",
       "      <th>cluster</th>\n",
       "    </tr>\n",
       "  </thead>\n",
       "  <tbody>\n",
       "    <tr>\n",
       "      <th>0</th>\n",
       "      <td>강남구</td>\n",
       "      <td>117.501236</td>\n",
       "      <td>304</td>\n",
       "      <td>-1</td>\n",
       "    </tr>\n",
       "    <tr>\n",
       "      <th>1</th>\n",
       "      <td>강동구</td>\n",
       "      <td>130.707905</td>\n",
       "      <td>201</td>\n",
       "      <td>-1</td>\n",
       "    </tr>\n",
       "    <tr>\n",
       "      <th>2</th>\n",
       "      <td>강북구</td>\n",
       "      <td>255.741946</td>\n",
       "      <td>162</td>\n",
       "      <td>-1</td>\n",
       "    </tr>\n",
       "    <tr>\n",
       "      <th>3</th>\n",
       "      <td>강서구</td>\n",
       "      <td>151.529412</td>\n",
       "      <td>325</td>\n",
       "      <td>-1</td>\n",
       "    </tr>\n",
       "    <tr>\n",
       "      <th>4</th>\n",
       "      <td>관악구</td>\n",
       "      <td>232.544572</td>\n",
       "      <td>250</td>\n",
       "      <td>-1</td>\n",
       "    </tr>\n",
       "    <tr>\n",
       "      <th>8</th>\n",
       "      <td>노원구</td>\n",
       "      <td>155.835207</td>\n",
       "      <td>375</td>\n",
       "      <td>-1</td>\n",
       "    </tr>\n",
       "    <tr>\n",
       "      <th>11</th>\n",
       "      <td>동작구</td>\n",
       "      <td>177.251917</td>\n",
       "      <td>254</td>\n",
       "      <td>-1</td>\n",
       "    </tr>\n",
       "    <tr>\n",
       "      <th>17</th>\n",
       "      <td>송파구</td>\n",
       "      <td>122.487458</td>\n",
       "      <td>301</td>\n",
       "      <td>-1</td>\n",
       "    </tr>\n",
       "    <tr>\n",
       "      <th>21</th>\n",
       "      <td>은평구</td>\n",
       "      <td>184.450518</td>\n",
       "      <td>249</td>\n",
       "      <td>-1</td>\n",
       "    </tr>\n",
       "    <tr>\n",
       "      <th>23</th>\n",
       "      <td>중구</td>\n",
       "      <td>245.438487</td>\n",
       "      <td>136</td>\n",
       "      <td>-1</td>\n",
       "    </tr>\n",
       "  </tbody>\n",
       "</table>\n",
       "</div>"
      ],
      "text/plain": [
       "   CTY_NM       ratio  tot  cluster\n",
       "0     강남구  117.501236  304       -1\n",
       "1     강동구  130.707905  201       -1\n",
       "2     강북구  255.741946  162       -1\n",
       "3     강서구  151.529412  325       -1\n",
       "4     관악구  232.544572  250       -1\n",
       "8     노원구  155.835207  375       -1\n",
       "11    동작구  177.251917  254       -1\n",
       "17    송파구  122.487458  301       -1\n",
       "21    은평구  184.450518  249       -1\n",
       "23     중구  245.438487  136       -1"
      ]
     },
     "execution_count": 41,
     "metadata": {},
     "output_type": "execute_result"
    }
   ],
   "source": [
    "# 군집 1\n",
    "cluster1 = data[data['cluster']==-1]\n",
    "print(len(cluster1))\n",
    "cluster1"
   ]
  },
  {
   "cell_type": "code",
   "execution_count": 42,
   "id": "6846d00e-7669-47e6-8525-420c64937b37",
   "metadata": {},
   "outputs": [
    {
     "name": "stdout",
     "output_type": "stream",
     "text": [
      "7\n"
     ]
    },
    {
     "data": {
      "text/html": [
       "<div>\n",
       "<style scoped>\n",
       "    .dataframe tbody tr th:only-of-type {\n",
       "        vertical-align: middle;\n",
       "    }\n",
       "\n",
       "    .dataframe tbody tr th {\n",
       "        vertical-align: top;\n",
       "    }\n",
       "\n",
       "    .dataframe thead th {\n",
       "        text-align: right;\n",
       "    }\n",
       "</style>\n",
       "<table border=\"1\" class=\"dataframe\">\n",
       "  <thead>\n",
       "    <tr style=\"text-align: right;\">\n",
       "      <th></th>\n",
       "      <th>CTY_NM</th>\n",
       "      <th>ratio</th>\n",
       "      <th>tot</th>\n",
       "      <th>cluster</th>\n",
       "    </tr>\n",
       "  </thead>\n",
       "  <tbody>\n",
       "    <tr>\n",
       "      <th>6</th>\n",
       "      <td>구로구</td>\n",
       "      <td>180.530203</td>\n",
       "      <td>283</td>\n",
       "      <td>0</td>\n",
       "    </tr>\n",
       "    <tr>\n",
       "      <th>12</th>\n",
       "      <td>마포구</td>\n",
       "      <td>140.931947</td>\n",
       "      <td>274</td>\n",
       "      <td>0</td>\n",
       "    </tr>\n",
       "    <tr>\n",
       "      <th>14</th>\n",
       "      <td>서초구</td>\n",
       "      <td>108.378422</td>\n",
       "      <td>264</td>\n",
       "      <td>0</td>\n",
       "    </tr>\n",
       "    <tr>\n",
       "      <th>15</th>\n",
       "      <td>성동구</td>\n",
       "      <td>157.095413</td>\n",
       "      <td>286</td>\n",
       "      <td>0</td>\n",
       "    </tr>\n",
       "    <tr>\n",
       "      <th>16</th>\n",
       "      <td>성북구</td>\n",
       "      <td>160.204750</td>\n",
       "      <td>283</td>\n",
       "      <td>0</td>\n",
       "    </tr>\n",
       "    <tr>\n",
       "      <th>18</th>\n",
       "      <td>양천구</td>\n",
       "      <td>120.534893</td>\n",
       "      <td>266</td>\n",
       "      <td>0</td>\n",
       "    </tr>\n",
       "    <tr>\n",
       "      <th>19</th>\n",
       "      <td>영등포구</td>\n",
       "      <td>162.996595</td>\n",
       "      <td>297</td>\n",
       "      <td>0</td>\n",
       "    </tr>\n",
       "  </tbody>\n",
       "</table>\n",
       "</div>"
      ],
      "text/plain": [
       "   CTY_NM       ratio  tot  cluster\n",
       "6     구로구  180.530203  283        0\n",
       "12    마포구  140.931947  274        0\n",
       "14    서초구  108.378422  264        0\n",
       "15    성동구  157.095413  286        0\n",
       "16    성북구  160.204750  283        0\n",
       "18    양천구  120.534893  266        0\n",
       "19   영등포구  162.996595  297        0"
      ]
     },
     "execution_count": 42,
     "metadata": {},
     "output_type": "execute_result"
    }
   ],
   "source": [
    "# 군집 2\n",
    "cluster2 = data[data['cluster']==0]\n",
    "print(len(cluster2))\n",
    "cluster2"
   ]
  },
  {
   "cell_type": "code",
   "execution_count": 43,
   "id": "80602dba-02f8-4749-af49-314ef3bb2005",
   "metadata": {},
   "outputs": [
    {
     "name": "stdout",
     "output_type": "stream",
     "text": [
      "4\n"
     ]
    },
    {
     "data": {
      "text/html": [
       "<div>\n",
       "<style scoped>\n",
       "    .dataframe tbody tr th:only-of-type {\n",
       "        vertical-align: middle;\n",
       "    }\n",
       "\n",
       "    .dataframe tbody tr th {\n",
       "        vertical-align: top;\n",
       "    }\n",
       "\n",
       "    .dataframe thead th {\n",
       "        text-align: right;\n",
       "    }\n",
       "</style>\n",
       "<table border=\"1\" class=\"dataframe\">\n",
       "  <thead>\n",
       "    <tr style=\"text-align: right;\">\n",
       "      <th></th>\n",
       "      <th>CTY_NM</th>\n",
       "      <th>ratio</th>\n",
       "      <th>tot</th>\n",
       "      <th>cluster</th>\n",
       "    </tr>\n",
       "  </thead>\n",
       "  <tbody>\n",
       "    <tr>\n",
       "      <th>9</th>\n",
       "      <td>도봉구</td>\n",
       "      <td>214.057018</td>\n",
       "      <td>218</td>\n",
       "      <td>1</td>\n",
       "    </tr>\n",
       "    <tr>\n",
       "      <th>10</th>\n",
       "      <td>동대문구</td>\n",
       "      <td>196.919653</td>\n",
       "      <td>200</td>\n",
       "      <td>1</td>\n",
       "    </tr>\n",
       "    <tr>\n",
       "      <th>22</th>\n",
       "      <td>종로구</td>\n",
       "      <td>223.176595</td>\n",
       "      <td>216</td>\n",
       "      <td>1</td>\n",
       "    </tr>\n",
       "    <tr>\n",
       "      <th>24</th>\n",
       "      <td>중랑구</td>\n",
       "      <td>204.636419</td>\n",
       "      <td>202</td>\n",
       "      <td>1</td>\n",
       "    </tr>\n",
       "  </tbody>\n",
       "</table>\n",
       "</div>"
      ],
      "text/plain": [
       "   CTY_NM       ratio  tot  cluster\n",
       "9     도봉구  214.057018  218        1\n",
       "10   동대문구  196.919653  200        1\n",
       "22    종로구  223.176595  216        1\n",
       "24    중랑구  204.636419  202        1"
      ]
     },
     "execution_count": 43,
     "metadata": {},
     "output_type": "execute_result"
    }
   ],
   "source": [
    "# 군집 3\n",
    "cluster3 = data[data['cluster']==1]\n",
    "print(len(cluster3))\n",
    "cluster3"
   ]
  },
  {
   "cell_type": "code",
   "execution_count": 44,
   "id": "bbb6177d-1cda-4da8-b0b9-2d0c394a9a75",
   "metadata": {},
   "outputs": [
    {
     "name": "stdout",
     "output_type": "stream",
     "text": [
      "4\n"
     ]
    },
    {
     "data": {
      "text/html": [
       "<div>\n",
       "<style scoped>\n",
       "    .dataframe tbody tr th:only-of-type {\n",
       "        vertical-align: middle;\n",
       "    }\n",
       "\n",
       "    .dataframe tbody tr th {\n",
       "        vertical-align: top;\n",
       "    }\n",
       "\n",
       "    .dataframe thead th {\n",
       "        text-align: right;\n",
       "    }\n",
       "</style>\n",
       "<table border=\"1\" class=\"dataframe\">\n",
       "  <thead>\n",
       "    <tr style=\"text-align: right;\">\n",
       "      <th></th>\n",
       "      <th>CTY_NM</th>\n",
       "      <th>ratio</th>\n",
       "      <th>tot</th>\n",
       "      <th>cluster</th>\n",
       "    </tr>\n",
       "  </thead>\n",
       "  <tbody>\n",
       "    <tr>\n",
       "      <th>5</th>\n",
       "      <td>광진구</td>\n",
       "      <td>164.941084</td>\n",
       "      <td>158</td>\n",
       "      <td>2</td>\n",
       "    </tr>\n",
       "    <tr>\n",
       "      <th>7</th>\n",
       "      <td>금천구</td>\n",
       "      <td>211.962286</td>\n",
       "      <td>167</td>\n",
       "      <td>2</td>\n",
       "    </tr>\n",
       "    <tr>\n",
       "      <th>13</th>\n",
       "      <td>서대문구</td>\n",
       "      <td>175.863324</td>\n",
       "      <td>165</td>\n",
       "      <td>2</td>\n",
       "    </tr>\n",
       "    <tr>\n",
       "      <th>20</th>\n",
       "      <td>용산구</td>\n",
       "      <td>189.524891</td>\n",
       "      <td>168</td>\n",
       "      <td>2</td>\n",
       "    </tr>\n",
       "  </tbody>\n",
       "</table>\n",
       "</div>"
      ],
      "text/plain": [
       "   CTY_NM       ratio  tot  cluster\n",
       "5     광진구  164.941084  158        2\n",
       "7     금천구  211.962286  167        2\n",
       "13   서대문구  175.863324  165        2\n",
       "20    용산구  189.524891  168        2"
      ]
     },
     "execution_count": 44,
     "metadata": {},
     "output_type": "execute_result"
    }
   ],
   "source": [
    "# 군집 4\n",
    "cluster4 = data[data['cluster']==2]\n",
    "print(len(cluster4))\n",
    "cluster4"
   ]
  },
  {
   "cell_type": "code",
   "execution_count": null,
   "id": "3319b657-936a-4b11-9b4d-ffa3e04779af",
   "metadata": {},
   "outputs": [],
   "source": []
  }
 ],
 "metadata": {
  "kernelspec": {
   "display_name": "Python 3 (ipykernel)",
   "language": "python",
   "name": "python3"
  },
  "language_info": {
   "codemirror_mode": {
    "name": "ipython",
    "version": 3
   },
   "file_extension": ".py",
   "mimetype": "text/x-python",
   "name": "python",
   "nbconvert_exporter": "python",
   "pygments_lexer": "ipython3",
   "version": "3.8.11"
  }
 },
 "nbformat": 4,
 "nbformat_minor": 5
}
